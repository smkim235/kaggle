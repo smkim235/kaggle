{
 "cells": [
  {
   "cell_type": "markdown",
   "metadata": {},
   "source": [
    "# Statistical Analysis"
   ]
  },
  {
   "cell_type": "markdown",
   "metadata": {},
   "source": [
    "We perform statistical analysis to prove relations between features and survivals. From the exploratory analysis, we saw that survival rate is affected by Sex, PClass, Title, Family Size, Age, Fare, Cabin, and Embarked. \n",
    "The significance of features like Sex and Family Size is evident by the graph. \n",
    "However, features like Age and Fare need more rigorous analysis. \n",
    "\n",
    "Here are plans:\n",
    "- Run regression analysis for variables to find the significance of each variable. \n",
    "- Run F-test for overall dependence.\n",
    "- For Age and Fare, divide the interval and check statistical significance for each one.  \n",
    "- Find dependence between variables. (for example, Title will depend on Sex, Age, and Family Size)"
   ]
  },
  {
   "cell_type": "code",
   "execution_count": null,
   "metadata": {
    "collapsed": true
   },
   "outputs": [],
   "source": []
  }
 ],
 "metadata": {
  "anaconda-cloud": {},
  "kernelspec": {
   "display_name": "Python [default]",
   "language": "python",
   "name": "python3"
  },
  "language_info": {
   "codemirror_mode": {
    "name": "ipython",
    "version": 3
   },
   "file_extension": ".py",
   "mimetype": "text/x-python",
   "name": "python",
   "nbconvert_exporter": "python",
   "pygments_lexer": "ipython3",
   "version": "3.5.2"
  }
 },
 "nbformat": 4,
 "nbformat_minor": 1
}

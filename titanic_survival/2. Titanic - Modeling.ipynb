{
 "cells": [
  {
   "cell_type": "markdown",
   "metadata": {},
   "source": [
    "# Modeling Plan."
   ]
  },
  {
   "cell_type": "markdown",
   "metadata": {},
   "source": [
    "by Semin Kim. Last Update: 2017/01/07."
   ]
  },
  {
   "cell_type": "markdown",
   "metadata": {},
   "source": [
    "1. Compute base accuracy. \n",
    "1. Prepare a clean dataset (X,y) by applying the feature engineering from the exploratory analysis.\n",
    "1. Apply a decision tree model. \n",
    "    - A decision tree is a natural first choice in this problem because features like \n",
    "     'female vs male', 'high class vs low class', 'high fare vs low fare', 'child vs old' affect survival rates. \n",
    "    - We have mostly categorical features (all except Fare). We don't need OneHotEncoding for a decision tree. \n",
    "    - Use a simple decision tree model to get a base accuracy. \n",
    "    - Draw a learning curve to see 'overfitting vs underfitting'. \n",
    "1. Tune the decision tree model. \n",
    "1. Apply a random forest model.\n",
    "1. Apply a boosting tree model.\n",
    "1. Apply a neural network using keras and tensorflow. "
   ]
  },
  {
   "cell_type": "code",
   "execution_count": 1,
   "metadata": {
    "collapsed": true
   },
   "outputs": [],
   "source": [
    "import numpy as np\n",
    "import pandas as pd\n",
    "import matplotlib.pyplot as plt\n",
    "import seaborn as sns\n",
    "% matplotlib inline"
   ]
  },
  {
   "cell_type": "code",
   "execution_count": 2,
   "metadata": {
    "collapsed": true
   },
   "outputs": [],
   "source": [
    "df = pd.read_csv('train.csv')"
   ]
  },
  {
   "cell_type": "markdown",
   "metadata": {},
   "source": [
    "# 1. Base Accuracy"
   ]
  },
  {
   "cell_type": "markdown",
   "metadata": {},
   "source": [
    "- A base model is just always predicting 'Survivied=0'. "
   ]
  },
  {
   "cell_type": "code",
   "execution_count": 3,
   "metadata": {
    "collapsed": false
   },
   "outputs": [
    {
     "name": "stdout",
     "output_type": "stream",
     "text": [
      "Accuracy of a Simple Guess Classifier = 61.6%\n"
     ]
    }
   ],
   "source": [
    "survived_cnt = df.Survived.value_counts()\n",
    "print('Accuracy of a Simple Guess Classifier = %.1f%%' %(survived_cnt[0]/(survived_cnt[0]+survived_cnt[1])*100))"
   ]
  },
  {
   "cell_type": "markdown",
   "metadata": {},
   "source": [
    "# 2. Preprocess: feature engineering"
   ]
  },
  {
   "cell_type": "code",
   "execution_count": 4,
   "metadata": {
    "collapsed": true
   },
   "outputs": [],
   "source": [
    "from sklearn.preprocessing import LabelEncoder\n",
    "\n",
    "def getTitle(s):\n",
    "    first,last = s.split(',')\n",
    "    \n",
    "    last = last.strip()\n",
    "    title = ''\n",
    "    if last.find('.') != -1:\n",
    "        title = last.split('.')[0]\n",
    "        \n",
    "    if title not in ['Mr', 'Mrs', 'Miss', 'Master']:\n",
    "        return 'Else'\n",
    "    return title\n",
    "\n",
    "def preprocess(df):\n",
    "    X = df.copy()\n",
    "    \n",
    "    X['title'] = X.Name.map(getTitle);\n",
    "\n",
    "    X['familySize'] = X.SibSp + X.Parch\n",
    "    X['familySize'] = X['familySize'].map(lambda x: x+1)\n",
    "    \n",
    "    X.Age.fillna(1000, inplace=True)\n",
    "    X['ageCat'] = pd.cut(X['Age'], bins=[0,18,30,60, 100, 2000])\n",
    "    \n",
    "    X['cabin'] = 0\n",
    "    X.loc[X.Cabin.notnull(), 'cabin'] = 1\n",
    "    \n",
    "    X.Embarked.fillna('C', inplace=True)\n",
    "    \n",
    "    X['Sex'] = LabelEncoder().fit_transform(X['Sex'].values)\n",
    "    X['title'] = LabelEncoder().fit_transform(X['title'].values)\n",
    "    X['ageCat'] = LabelEncoder().fit_transform(X['ageCat'].values)\n",
    "    X['Embarked'] = LabelEncoder().fit_transform(X['Embarked'].values)\n",
    "    \n",
    "    X = X[['Pclass','Sex', 'title', 'SibSp', 'Parch', 'familySize', 'Fare', 'ageCat','cabin', 'Embarked']]\n",
    "    \n",
    "    return X"
   ]
  },
  {
   "cell_type": "code",
   "execution_count": 5,
   "metadata": {
    "collapsed": false
   },
   "outputs": [],
   "source": [
    "X = preprocess(df)\n",
    "y = df['Survived']"
   ]
  },
  {
   "cell_type": "code",
   "execution_count": 6,
   "metadata": {
    "collapsed": false
   },
   "outputs": [
    {
     "data": {
      "text/html": [
       "<div>\n",
       "<table border=\"1\" class=\"dataframe\">\n",
       "  <thead>\n",
       "    <tr style=\"text-align: right;\">\n",
       "      <th></th>\n",
       "      <th>Pclass</th>\n",
       "      <th>Sex</th>\n",
       "      <th>title</th>\n",
       "      <th>SibSp</th>\n",
       "      <th>Parch</th>\n",
       "      <th>familySize</th>\n",
       "      <th>Fare</th>\n",
       "      <th>ageCat</th>\n",
       "      <th>cabin</th>\n",
       "      <th>Embarked</th>\n",
       "    </tr>\n",
       "  </thead>\n",
       "  <tbody>\n",
       "    <tr>\n",
       "      <th>0</th>\n",
       "      <td>3</td>\n",
       "      <td>1</td>\n",
       "      <td>3</td>\n",
       "      <td>1</td>\n",
       "      <td>0</td>\n",
       "      <td>2</td>\n",
       "      <td>7.2500</td>\n",
       "      <td>2</td>\n",
       "      <td>0</td>\n",
       "      <td>2</td>\n",
       "    </tr>\n",
       "    <tr>\n",
       "      <th>1</th>\n",
       "      <td>1</td>\n",
       "      <td>0</td>\n",
       "      <td>4</td>\n",
       "      <td>1</td>\n",
       "      <td>0</td>\n",
       "      <td>2</td>\n",
       "      <td>71.2833</td>\n",
       "      <td>3</td>\n",
       "      <td>1</td>\n",
       "      <td>0</td>\n",
       "    </tr>\n",
       "    <tr>\n",
       "      <th>2</th>\n",
       "      <td>3</td>\n",
       "      <td>0</td>\n",
       "      <td>2</td>\n",
       "      <td>0</td>\n",
       "      <td>0</td>\n",
       "      <td>1</td>\n",
       "      <td>7.9250</td>\n",
       "      <td>2</td>\n",
       "      <td>0</td>\n",
       "      <td>2</td>\n",
       "    </tr>\n",
       "    <tr>\n",
       "      <th>3</th>\n",
       "      <td>1</td>\n",
       "      <td>0</td>\n",
       "      <td>4</td>\n",
       "      <td>1</td>\n",
       "      <td>0</td>\n",
       "      <td>2</td>\n",
       "      <td>53.1000</td>\n",
       "      <td>3</td>\n",
       "      <td>1</td>\n",
       "      <td>2</td>\n",
       "    </tr>\n",
       "    <tr>\n",
       "      <th>4</th>\n",
       "      <td>3</td>\n",
       "      <td>1</td>\n",
       "      <td>3</td>\n",
       "      <td>0</td>\n",
       "      <td>0</td>\n",
       "      <td>1</td>\n",
       "      <td>8.0500</td>\n",
       "      <td>3</td>\n",
       "      <td>0</td>\n",
       "      <td>2</td>\n",
       "    </tr>\n",
       "  </tbody>\n",
       "</table>\n",
       "</div>"
      ],
      "text/plain": [
       "   Pclass  Sex  title  SibSp  Parch  familySize     Fare  ageCat  cabin  \\\n",
       "0       3    1      3      1      0           2   7.2500       2      0   \n",
       "1       1    0      4      1      0           2  71.2833       3      1   \n",
       "2       3    0      2      0      0           1   7.9250       2      0   \n",
       "3       1    0      4      1      0           2  53.1000       3      1   \n",
       "4       3    1      3      0      0           1   8.0500       3      0   \n",
       "\n",
       "   Embarked  \n",
       "0         2  \n",
       "1         0  \n",
       "2         2  \n",
       "3         2  \n",
       "4         2  "
      ]
     },
     "execution_count": 6,
     "metadata": {},
     "output_type": "execute_result"
    }
   ],
   "source": [
    "X.head()"
   ]
  },
  {
   "cell_type": "markdown",
   "metadata": {},
   "source": [
    "# 3. Modeling with a decision tree "
   ]
  },
  {
   "cell_type": "code",
   "execution_count": 7,
   "metadata": {
    "collapsed": true
   },
   "outputs": [],
   "source": [
    "from sklearn.tree import DecisionTreeClassifier\n",
    "from sklearn.ensemble import RandomForestClassifier\n",
    "from sklearn.ensemble import GradientBoostingClassifier\n",
    "from sklearn.ensemble import AdaBoostClassifier\n",
    "\n",
    "from sklearn.model_selection import train_test_split\n",
    "from sklearn.model_selection import GridSearchCV\n",
    "from sklearn.model_selection import cross_val_score\n",
    "import time\n",
    "\n",
    "\n",
    "def printFeatureImportance(clf, X,y):\n",
    "    print('\\n feature importance:')\n",
    "    clf.fit(X, y)\n",
    "    features = X.columns\n",
    "    importances = clf.feature_importances_\n",
    "    arg_sort = np.argsort(importances)[::-1]\n",
    "    n = min(len(features), 10)\n",
    "    for i in range(n):\n",
    "        idx = arg_sort[i]\n",
    "        print('%2d. %-*s %.2f %%' %(i+1,15, features[idx],importances[idx]*100))\n",
    "\n",
    "def fitTree(X,y, estimator=DecisionTreeClassifier, param_grid=None):\n",
    "    t1 = time.time()\n",
    "    \n",
    "    X_train, X_test, y_train, y_test = train_test_split(X,y, test_size=0.3)\n",
    "    \n",
    "    clf = estimator()\n",
    "     \n",
    "    if param_grid:\n",
    "        gs = GridSearchCV(estimator=clf,\n",
    "                    param_grid=param_grid,\n",
    "                    scoring='accuracy',\n",
    "                    cv=5)\n",
    "        gs = gs.fit(X_train, y_train)\n",
    "        clf = gs.best_estimator_\n",
    "        print('best param: ' + str(gs.best_params_))\n",
    "        print('grid search time: %.2f sec.' %(time.time()-t1))\n",
    "    \n",
    "    train_scores = cross_val_score(estimator = clf, X=X_train, y=y_train, cv=5)\n",
    "    test_scores = cross_val_score(estimator = clf, X=X_test, y=y_test, cv=5)\n",
    "    \n",
    "    print('train mean accuracy: %.2f %% (std=%.2f %%)' %(np.mean(train_scores)*100, np.std(train_scores)*100))\n",
    "    print('test mean accuracy: %.2f %% (std=%.2f %%)' %(np.mean(test_scores)*100, np.std(test_scores)*100))\n",
    "    \n",
    "    printFeatureImportance(clf,X,y)\n",
    "    print('\\n total time: %.2f sec.' %(time.time()-t1))\n",
    "    return clf"
   ]
  },
  {
   "cell_type": "code",
   "execution_count": 8,
   "metadata": {
    "collapsed": true
   },
   "outputs": [],
   "source": [
    "from sklearn.model_selection import learning_curve\n",
    "def drawLearningCurve(clf, X, y):\n",
    "    train_sizes, train_scores, test_scores = learning_curve(estimator=clf, X=X, y=y, cv=5, train_sizes=np.linspace(0.1,1,10))\n",
    "    \n",
    "    train_mean = np.mean(train_scores, axis=1)\n",
    "    train_std = np.std(train_scores, axis=1)\n",
    "    plt.plot(train_sizes, train_mean, 'b-')\n",
    "\n",
    "    test_mean = np.mean(test_scores, axis=1)\n",
    "    test_std = np.std(test_scores, axis=1)\n",
    "    plt.plot(train_sizes, test_mean, 'r-')\n",
    "\n",
    "    plt.fill_between(train_sizes, train_mean-train_std, train_mean+train_std, alpha=0.1, color='blue')\n",
    "    plt.fill_between(train_sizes, test_mean-test_std, test_mean+test_std, alpha=0.1, color='red')"
   ]
  },
  {
   "cell_type": "code",
   "execution_count": 9,
   "metadata": {
    "collapsed": false
   },
   "outputs": [
    {
     "name": "stdout",
     "output_type": "stream",
     "text": [
      "train mean accuracy: 77.85 % (std=2.33 %)\n",
      "test mean accuracy: 68.63 % (std=2.46 %)\n",
      "\n",
      " feature importance:\n",
      " 1. Sex             33.49 %\n",
      " 2. Fare            25.97 %\n",
      " 3. ageCat          9.61 %\n",
      " 4. Pclass          8.98 %\n",
      " 5. title           5.44 %\n",
      " 6. SibSp           4.56 %\n",
      " 7. cabin           4.22 %\n",
      " 8. familySize      3.13 %\n",
      " 9. Embarked        2.80 %\n",
      "10. Parch           1.81 %\n",
      "\n",
      " total time: 0.06 sec.\n"
     ]
    },
    {
     "data": {
      "text/plain": [
       "DecisionTreeClassifier(class_weight=None, criterion='gini', max_depth=None,\n",
       "            max_features=None, max_leaf_nodes=None,\n",
       "            min_impurity_split=1e-07, min_samples_leaf=1,\n",
       "            min_samples_split=2, min_weight_fraction_leaf=0.0,\n",
       "            presort=False, random_state=None, splitter='best')"
      ]
     },
     "execution_count": 9,
     "metadata": {},
     "output_type": "execute_result"
    }
   ],
   "source": [
    "clf_dt = fitTree(X,y)\n",
    "clf_dt"
   ]
  },
  {
   "cell_type": "code",
   "execution_count": 10,
   "metadata": {
    "collapsed": false
   },
   "outputs": [
    {
     "data": {
      "image/png": "[encoded data removed]",
      "text/plain": [
       "<matplotlib.figure.Figure at 0x2771d0d2be0>"
      ]
     },
     "metadata": {},
     "output_type": "display_data"
    }
   ],
   "source": [
    "drawLearningCurve(clf_dt, X, y)"
   ]
  },
  {
   "cell_type": "markdown",
   "metadata": {},
   "source": [
    "# 4. Modeling with a decision tree: parameter tuning "
   ]
  },
  {
   "cell_type": "markdown",
   "metadata": {},
   "source": [
    "- We implemented a simple decision tree model for prediction, with an increase in accuracy compared to simple guess. \n",
    "- However, we also see that the current model is suffering from overfitting. We use GridSearchCV for parameter tuning. \n",
    "- For a decision tree, we control 'max_depth' parameter (lower 'the depth of tree' to avoid high variance). "
   ]
  },
  {
   "cell_type": "code",
   "execution_count": 12,
   "metadata": {
    "collapsed": false
   },
   "outputs": [
    {
     "name": "stdout",
     "output_type": "stream",
     "text": [
      "best param: {'max_depth': 4}\n",
      "grid search time: 0.16 sec.\n",
      "train mean accuracy: 80.74 % (std=3.34 %)\n",
      "test mean accuracy: 78.35 % (std=4.63 %)\n",
      "\n",
      " feature importance:\n",
      " 1. Sex             59.91 %\n",
      " 2. Pclass          15.01 %\n",
      " 3. Fare            7.58 %\n",
      " 4. cabin           6.79 %\n",
      " 5. familySize      3.86 %\n",
      " 6. title           2.67 %\n",
      " 7. ageCat          2.08 %\n",
      " 8. Embarked        1.25 %\n",
      " 9. Parch           0.86 %\n",
      "10. SibSp           0.00 %\n",
      "\n",
      " total time: 0.20 sec.\n"
     ]
    },
    {
     "data": {
      "text/plain": [
       "DecisionTreeClassifier(class_weight=None, criterion='gini', max_depth=4,\n",
       "            max_features=None, max_leaf_nodes=None,\n",
       "            min_impurity_split=1e-07, min_samples_leaf=1,\n",
       "            min_samples_split=2, min_weight_fraction_leaf=0.0,\n",
       "            presort=False, random_state=None, splitter='best')"
      ]
     },
     "execution_count": 12,
     "metadata": {},
     "output_type": "execute_result"
    }
   ],
   "source": [
    "param_grid = [ {'max_depth':[3,4,5,6,7,8]} ]\n",
    "\n",
    "clf_dt_gs = fitTree(X,y,param_grid=param_grid)\n",
    "clf_dt_gs"
   ]
  },
  {
   "cell_type": "code",
   "execution_count": 13,
   "metadata": {
    "collapsed": false
   },
   "outputs": [
    {
     "data": {
      "image/png": "[encoded data removed]",
      "text/plain": [
       "<matplotlib.figure.Figure at 0x2771d583c18>"
      ]
     },
     "metadata": {},
     "output_type": "display_data"
    }
   ],
   "source": [
    "drawLearningCurve(clf_dt_gs, X, y)"
   ]
  },
  {
   "cell_type": "markdown",
   "metadata": {},
   "source": [
    "# 5. Modeling with a random forest."
   ]
  },
  {
   "cell_type": "markdown",
   "metadata": {},
   "source": [
    "- We successfuly improved the model with an increase of 4% in accuracy. \n",
    "\n",
    "- On the other hand, we see that 'Sex' feature always has greatest impact, having 30-50% of explained variance. A decision tree might suffer from local minimum in optimization by always dividing 1st node by Sex (failure of Greedy algorithm). \n",
    "\n",
    "- To avoid this issue, we try a random forest classifier which resolve this issue by 'random feature selection at each step' and 'bootstrapping and voting classification'.  "
   ]
  },
  {
   "cell_type": "code",
   "execution_count": 14,
   "metadata": {
    "collapsed": false
   },
   "outputs": [
    {
     "name": "stdout",
     "output_type": "stream",
     "text": [
      "train mean accuracy: 80.59 % (std=3.72 %)\n",
      "test mean accuracy: 81.35 % (std=2.33 %)\n",
      "\n",
      " feature importance:\n",
      " 1. Fare            28.49 %\n",
      " 2. Sex             26.69 %\n",
      " 3. title           9.39 %\n",
      " 4. ageCat          8.53 %\n",
      " 5. Pclass          6.84 %\n",
      " 6. familySize      5.00 %\n",
      " 7. cabin           4.87 %\n",
      " 8. SibSp           3.99 %\n",
      " 9. Embarked        3.32 %\n",
      "10. Parch           2.87 %\n",
      "\n",
      " total time: 0.22 sec.\n"
     ]
    },
    {
     "data": {
      "text/plain": [
       "RandomForestClassifier(bootstrap=True, class_weight=None, criterion='gini',\n",
       "            max_depth=None, max_features='auto', max_leaf_nodes=None,\n",
       "            min_impurity_split=1e-07, min_samples_leaf=1,\n",
       "            min_samples_split=2, min_weight_fraction_leaf=0.0,\n",
       "            n_estimators=10, n_jobs=1, oob_score=False, random_state=None,\n",
       "            verbose=0, warm_start=False)"
      ]
     },
     "execution_count": 14,
     "metadata": {},
     "output_type": "execute_result"
    }
   ],
   "source": [
    "clf_rf = fitTree(X,y, estimator=RandomForestClassifier)\n",
    "clf_rf"
   ]
  },
  {
   "cell_type": "code",
   "execution_count": 15,
   "metadata": {
    "collapsed": false
   },
   "outputs": [
    {
     "name": "stdout",
     "output_type": "stream",
     "text": [
      "best param: {'max_features': None, 'max_depth': 7, 'n_estimators': 20}\n",
      "grid search time: 2.51 sec.\n",
      "train mean accuracy: 80.10 % (std=1.28 %)\n",
      "test mean accuracy: 80.61 % (std=5.87 %)\n",
      "\n",
      " feature importance:\n",
      " 1. Sex             41.31 %\n",
      " 2. Fare            19.85 %\n",
      " 3. Pclass          11.97 %\n",
      " 4. title           5.94 %\n",
      " 5. ageCat          5.38 %\n",
      " 6. familySize      4.49 %\n",
      " 7. cabin           4.29 %\n",
      " 8. SibSp           2.83 %\n",
      " 9. Embarked        2.43 %\n",
      "10. Parch           1.52 %\n",
      "\n",
      " total time: 2.90 sec.\n"
     ]
    },
    {
     "data": {
      "text/plain": [
       "RandomForestClassifier(bootstrap=True, class_weight=None, criterion='gini',\n",
       "            max_depth=7, max_features=None, max_leaf_nodes=None,\n",
       "            min_impurity_split=1e-07, min_samples_leaf=1,\n",
       "            min_samples_split=2, min_weight_fraction_leaf=0.0,\n",
       "            n_estimators=20, n_jobs=1, oob_score=False, random_state=None,\n",
       "            verbose=0, warm_start=False)"
      ]
     },
     "execution_count": 15,
     "metadata": {},
     "output_type": "execute_result"
    }
   ],
   "source": [
    "param_grid = [ {'n_estimators':[10, 20], \n",
    "                'max_depth':[3,5,7], \n",
    "                'max_features':[3,5,None]} ]\n",
    "\n",
    "clf_rf_gs = fitTree(X,y, estimator=RandomForestClassifier, param_grid=param_grid)\n",
    "clf_rf_gs"
   ]
  },
  {
   "cell_type": "code",
   "execution_count": 16,
   "metadata": {
    "collapsed": false
   },
   "outputs": [
    {
     "data": {
      "image/png": "[encoded data removed]",
      "text/plain": [
       "<matplotlib.figure.Figure at 0x2771d5798d0>"
      ]
     },
     "metadata": {},
     "output_type": "display_data"
    }
   ],
   "source": [
    "drawLearningCurve(clf_rf_gs, X, y)"
   ]
  },
  {
   "cell_type": "markdown",
   "metadata": {},
   "source": [
    "- We see that 'Sex' is still the most important feature for the prediction, and similar accuracy with a decision tree. "
   ]
  },
  {
   "cell_type": "markdown",
   "metadata": {},
   "source": [
    "# 5. Modeling with a boosting tree. "
   ]
  },
  {
   "cell_type": "code",
   "execution_count": 17,
   "metadata": {
    "collapsed": false
   },
   "outputs": [
    {
     "name": "stdout",
     "output_type": "stream",
     "text": [
      "train mean accuracy: 81.39 % (std=3.79 %)\n",
      "test mean accuracy: 83.58 % (std=6.58 %)\n",
      "\n",
      " feature importance:\n",
      " 1. Fare            47.15 %\n",
      " 2. Sex             13.83 %\n",
      " 3. title           11.22 %\n",
      " 4. familySize      10.34 %\n",
      " 5. ageCat          6.11 %\n",
      " 6. Pclass          3.80 %\n",
      " 7. SibSp           2.32 %\n",
      " 8. Embarked        2.30 %\n",
      " 9. cabin           1.71 %\n",
      "10. Parch           1.22 %\n",
      "\n",
      " total time: 0.69 sec.\n"
     ]
    },
    {
     "data": {
      "text/plain": [
       "GradientBoostingClassifier(criterion='friedman_mse', init=None,\n",
       "              learning_rate=0.1, loss='deviance', max_depth=3,\n",
       "              max_features=None, max_leaf_nodes=None,\n",
       "              min_impurity_split=1e-07, min_samples_leaf=1,\n",
       "              min_samples_split=2, min_weight_fraction_leaf=0.0,\n",
       "              n_estimators=100, presort='auto', random_state=None,\n",
       "              subsample=1.0, verbose=0, warm_start=False)"
      ]
     },
     "execution_count": 17,
     "metadata": {},
     "output_type": "execute_result"
    }
   ],
   "source": [
    "clf_gb = fitTree(X,y, estimator=GradientBoostingClassifier)\n",
    "clf_gb"
   ]
  },
  {
   "cell_type": "code",
   "execution_count": 18,
   "metadata": {
    "collapsed": false
   },
   "outputs": [
    {
     "name": "stdout",
     "output_type": "stream",
     "text": [
      "best param: {'max_features': None, 'max_depth': 3, 'learning_rate': 0.1, 'n_estimators': 100}\n",
      "grid search time: 21.94 sec.\n",
      "train mean accuracy: 82.50 % (std=3.54 %)\n",
      "test mean accuracy: 78.43 % (std=7.71 %)\n",
      "\n",
      " feature importance:\n",
      " 1. Fare            46.67 %\n",
      " 2. Sex             13.99 %\n",
      " 3. title           11.06 %\n",
      " 4. familySize      10.49 %\n",
      " 5. ageCat          6.12 %\n",
      " 6. Pclass          3.93 %\n",
      " 7. SibSp           2.36 %\n",
      " 8. Embarked        2.30 %\n",
      " 9. cabin           1.85 %\n",
      "10. Parch           1.23 %\n",
      "\n",
      " total time: 22.70 sec.\n"
     ]
    },
    {
     "data": {
      "text/plain": [
       "GradientBoostingClassifier(criterion='friedman_mse', init=None,\n",
       "              learning_rate=0.1, loss='deviance', max_depth=3,\n",
       "              max_features=None, max_leaf_nodes=None,\n",
       "              min_impurity_split=1e-07, min_samples_leaf=1,\n",
       "              min_samples_split=2, min_weight_fraction_leaf=0.0,\n",
       "              n_estimators=100, presort='auto', random_state=None,\n",
       "              subsample=1.0, verbose=0, warm_start=False)"
      ]
     },
     "execution_count": 18,
     "metadata": {},
     "output_type": "execute_result"
    }
   ],
   "source": [
    "param_grid = [ {'n_estimators':[50, 100], \n",
    "                'learning_rate':[0.01,0.1],\n",
    "                'max_depth':[3,5,7],\n",
    "                'max_features':[3,5,None]} ]\n",
    "\n",
    "clf_gb_gs = fitTree(X,y, estimator=GradientBoostingClassifier, param_grid=param_grid)\n",
    "clf_gb_gs"
   ]
  },
  {
   "cell_type": "code",
   "execution_count": 19,
   "metadata": {
    "collapsed": false
   },
   "outputs": [
    {
     "data": {
      "image/png": "[encoded data removed]",
      "text/plain": [
       "<matplotlib.figure.Figure at 0x2771d4e9f28>"
      ]
     },
     "metadata": {},
     "output_type": "display_data"
    }
   ],
   "source": [
    "drawLearningCurve(clf_gb_gs, X, y)"
   ]
  },
  {
   "cell_type": "markdown",
   "metadata": {
    "collapsed": true
   },
   "source": [
    "- We have achieved around 20% increase in accuracy using tree-based classifieres like a decision tree, a random forest, and a boosting tree. "
   ]
  },
  {
   "cell_type": "markdown",
   "metadata": {},
   "source": [
    "# 6. Neural Network (Multilayer Perception)"
   ]
  },
  {
   "cell_type": "code",
   "execution_count": 20,
   "metadata": {
    "collapsed": false
   },
   "outputs": [
    {
     "name": "stderr",
     "output_type": "stream",
     "text": [
      "Using TensorFlow backend.\n"
     ]
    }
   ],
   "source": [
    "from keras.models import Sequential\n",
    "from keras.layers.core import Dense, Activation, Dropout\n",
    "\n",
    "from sklearn.model_selection import train_test_split\n",
    "from sklearn.preprocessing import OneHotEncoder\n",
    "from sklearn.model_selection import StratifiedKFold\n",
    "import time\n",
    "\n",
    "def fitNN(X,y):\n",
    "    t1 = time.time()\n",
    "    \n",
    "    X_ohe = OneHotEncoder(categorical_features=[0,2,7]).fit_transform(X).toarray()\n",
    "    y_ohe = OneHotEncoder().fit_transform(y.reshape(-1,1)).toarray()    \n",
    "        \n",
    "    model = Sequential()\n",
    "    model.add(Dense(10, input_dim=X_ohe.shape[1], init='uniform', activation='sigmoid'))\n",
    "    model.add(Dense(5, init='uniform', activation='sigmoid')) \n",
    "    model.add(Dropout(0.3))\n",
    "    model.add(Dense(2, activation='softmax'))\n",
    "    model.compile(optimizer='adam', loss='categorical_crossentropy', metrics=[\"accuracy\"])\n",
    "    \n",
    "    skf = StratifiedKFold(n_splits=5)\n",
    "    train_scores = []\n",
    "    test_scores = []\n",
    "    for train_index, test_index in skf.split(X, y):\n",
    "        X_train, X_test = X_ohe[train_index], X_ohe[test_index]\n",
    "        y_train, y_test = y_ohe[train_index], y_ohe[test_index]\n",
    "\n",
    "        model.fit(X_train, y_train, nb_epoch=10, batch_size=1, verbose=0)\n",
    "        _, train_accuracy = model.evaluate(X_train, y_train, verbose=0)\n",
    "        _, test_accuracy = model.evaluate(X_test, y_test, verbose=0)\n",
    "        \n",
    "        train_scores.append(train_accuracy)\n",
    "        test_scores.append(test_accuracy)\n",
    "    \n",
    "    print('train mean accuracy: %.2f %% (std=%.2f %%)' %(np.mean(train_scores)*100, np.std(train_scores)*100))\n",
    "    print('test mean accuracy: %.2f %% (std=%.2f %%)' %(np.mean(test_scores)*100, np.std(test_scores)*100))\n",
    "    \n",
    "    print('\\n total time: %.2f sec.' %(time.time()-t1))\n",
    "    return model"
   ]
  },
  {
   "cell_type": "code",
   "execution_count": 21,
   "metadata": {
    "collapsed": false
   },
   "outputs": [
    {
     "name": "stdout",
     "output_type": "stream",
     "text": [
      "train mean accuracy: 83.73 % (std=0.71 %)\n",
      "test mean accuracy: 81.49 % (std=3.29 %)\n",
      "\n",
      " total time: 43.26 sec.\n"
     ]
    }
   ],
   "source": [
    "model = fitNN(X,y)"
   ]
  },
  {
   "cell_type": "markdown",
   "metadata": {},
   "source": [
    "- We see no significant improvement compared to tree-based classifiers. "
   ]
  }
 ],
 "metadata": {
  "anaconda-cloud": {},
  "kernelspec": {
   "display_name": "Python [default]",
   "language": "python",
   "name": "python3"
  },
  "language_info": {
   "codemirror_mode": {
    "name": "ipython",
    "version": 3
   },
   "file_extension": ".py",
   "mimetype": "text/x-python",
   "name": "python",
   "nbconvert_exporter": "python",
   "pygments_lexer": "ipython3",
   "version": "3.5.2"
  }
 },
 "nbformat": 4,
 "nbformat_minor": 1
}

{
 "cells": [
  {
   "cell_type": "markdown",
   "metadata": {},
   "source": [
    "# Merge user and session data\n",
    "\n",
    "- We add 'action' activities using word vectors by counting the number of each action. \n",
    "  (like word counting vector from text analysis)\n",
    "- We also keep the total second for each action by creating another 360-dim word vector of total seconds for each action. \n",
    "- Therefore, we add 720-dim feature vector for each user. \n",
    "- Finally, we have 650Kx720-dim DataFrame and save it for modeling. "
   ]
  },
  {
   "cell_type": "code",
   "execution_count": 1,
   "metadata": {
    "collapsed": true
   },
   "outputs": [],
   "source": [
    "import pandas as pd\n",
    "import numpy as np\n",
    "import matplotlib.pyplot as plt\n",
    "import seaborn as sns\n",
    "%matplotlib inline"
   ]
  },
  {
   "cell_type": "code",
   "execution_count": 2,
   "metadata": {
    "collapsed": true
   },
   "outputs": [],
   "source": [
    "df = pd.read_csv('train_users_2.csv')\n",
    "df_s = pd.read_csv('sessions.csv')"
   ]
  },
  {
   "cell_type": "code",
   "execution_count": 3,
   "metadata": {
    "collapsed": true
   },
   "outputs": [],
   "source": [
    "def get_language(s):\n",
    "    if s == 'en':\n",
    "        return s\n",
    "    else:\n",
    "        return 'not en'\n",
    "\n",
    "def get_device(s):\n",
    "    if s in ['Mac Desktop', 'Windows Desktop', 'iPhone', 'iPad']:\n",
    "        return s.split(' ')[0]\n",
    "    else:\n",
    "        return 'Else'\n",
    "\n",
    "def get_affiliate_provider(s):\n",
    "    if s in ['direct', 'google']:\n",
    "        return s\n",
    "    else:\n",
    "        return 'other'\n",
    "    \n",
    "def get_browser(s):\n",
    "    if s in ['Chrome', 'Safari', 'Firefox', 'IE', '-unknown-', 'Android Browser', 'Mobile Safari', 'Chrome Mobile']:\n",
    "        return s\n",
    "    else:\n",
    "        return 'Else'\n",
    "\n",
    "def timedelta_to_day(time_delta):\n",
    "    if pd.notnull(time_delta):\n",
    "        return time_delta.days\n",
    "    return np.nan\n",
    "\n",
    "def preprocess(df_origin):\n",
    "    df = df_origin.copy()\n",
    "    df = df[df.country_destination.isin(['NDF', 'US'])]\n",
    "    \n",
    "    df['language'] = df['language'].apply(get_language)\n",
    "    df['first_device_type'] = df['first_device_type'].apply(get_device)\n",
    "    df['affiliate_provider'] = df['affiliate_provider'].apply(get_affiliate_provider)\n",
    "    df['first_browser'] = df['first_browser'].apply(get_browser)\n",
    "    \n",
    "    df.age.fillna(1000, inplace=True)\n",
    "    df['ageCat'] = pd.cut(df['age'], \n",
    "                            bins=[0,10,20,30,40,50,60,70,80,90,100,10000])\n",
    "\n",
    "    df['date_account_created'] = pd.to_datetime(df['date_account_created'], format='%Y-%m-%d')\n",
    "    df['date_first_booking'] = pd.to_datetime(df['date_first_booking'], format='%Y-%m-%d')\n",
    "    df['create_year'] = df.date_account_created.apply(lambda x: x.year)\n",
    "    df['create_month'] = df.date_account_created.apply(lambda x: x.month)\n",
    "    df['time_create_to_book'] = (df['date_first_booking']-df['date_account_created']).apply(timedelta_to_day)\n",
    "    df = df[~(df.time_create_to_book < 0)]\n",
    "    df['time_create_to_book_cat'] = pd.cut(df['time_create_to_book'], \n",
    "                        bins=[-0.1,1, 7, 30, 90,1000])\n",
    "    \n",
    "    return df"
   ]
  },
  {
   "cell_type": "code",
   "execution_count": 4,
   "metadata": {
    "collapsed": true
   },
   "outputs": [],
   "source": [
    "df = preprocess(df)"
   ]
  },
  {
   "cell_type": "code",
   "execution_count": 5,
   "metadata": {
    "collapsed": false
   },
   "outputs": [
    {
     "data": {
      "text/html": [
       "<div>\n",
       "<table border=\"1\" class=\"dataframe\">\n",
       "  <thead>\n",
       "    <tr style=\"text-align: right;\">\n",
       "      <th></th>\n",
       "      <th>id</th>\n",
       "      <th>date_account_created</th>\n",
       "      <th>timestamp_first_active</th>\n",
       "      <th>date_first_booking</th>\n",
       "      <th>gender</th>\n",
       "      <th>age</th>\n",
       "      <th>signup_method</th>\n",
       "      <th>signup_flow</th>\n",
       "      <th>language</th>\n",
       "      <th>affiliate_channel</th>\n",
       "      <th>...</th>\n",
       "      <th>first_affiliate_tracked</th>\n",
       "      <th>signup_app</th>\n",
       "      <th>first_device_type</th>\n",
       "      <th>first_browser</th>\n",
       "      <th>country_destination</th>\n",
       "      <th>ageCat</th>\n",
       "      <th>create_year</th>\n",
       "      <th>create_month</th>\n",
       "      <th>time_create_to_book</th>\n",
       "      <th>time_create_to_book_cat</th>\n",
       "    </tr>\n",
       "  </thead>\n",
       "  <tbody>\n",
       "    <tr>\n",
       "      <th>0</th>\n",
       "      <td>gxn3p5htnn</td>\n",
       "      <td>2010-06-28</td>\n",
       "      <td>20090319043255</td>\n",
       "      <td>NaT</td>\n",
       "      <td>-unknown-</td>\n",
       "      <td>1000.0</td>\n",
       "      <td>facebook</td>\n",
       "      <td>0</td>\n",
       "      <td>en</td>\n",
       "      <td>direct</td>\n",
       "      <td>...</td>\n",
       "      <td>untracked</td>\n",
       "      <td>Web</td>\n",
       "      <td>Mac</td>\n",
       "      <td>Chrome</td>\n",
       "      <td>NDF</td>\n",
       "      <td>(100, 10000]</td>\n",
       "      <td>2010</td>\n",
       "      <td>6</td>\n",
       "      <td>NaN</td>\n",
       "      <td>NaN</td>\n",
       "    </tr>\n",
       "    <tr>\n",
       "      <th>1</th>\n",
       "      <td>820tgsjxq7</td>\n",
       "      <td>2011-05-25</td>\n",
       "      <td>20090523174809</td>\n",
       "      <td>NaT</td>\n",
       "      <td>MALE</td>\n",
       "      <td>38.0</td>\n",
       "      <td>facebook</td>\n",
       "      <td>0</td>\n",
       "      <td>en</td>\n",
       "      <td>seo</td>\n",
       "      <td>...</td>\n",
       "      <td>untracked</td>\n",
       "      <td>Web</td>\n",
       "      <td>Mac</td>\n",
       "      <td>Chrome</td>\n",
       "      <td>NDF</td>\n",
       "      <td>(30, 40]</td>\n",
       "      <td>2011</td>\n",
       "      <td>5</td>\n",
       "      <td>NaN</td>\n",
       "      <td>NaN</td>\n",
       "    </tr>\n",
       "    <tr>\n",
       "      <th>5</th>\n",
       "      <td>osr2jwljor</td>\n",
       "      <td>2010-01-01</td>\n",
       "      <td>20100101215619</td>\n",
       "      <td>2010-01-02</td>\n",
       "      <td>-unknown-</td>\n",
       "      <td>1000.0</td>\n",
       "      <td>basic</td>\n",
       "      <td>0</td>\n",
       "      <td>en</td>\n",
       "      <td>other</td>\n",
       "      <td>...</td>\n",
       "      <td>omg</td>\n",
       "      <td>Web</td>\n",
       "      <td>Mac</td>\n",
       "      <td>Chrome</td>\n",
       "      <td>US</td>\n",
       "      <td>(100, 10000]</td>\n",
       "      <td>2010</td>\n",
       "      <td>1</td>\n",
       "      <td>1.0</td>\n",
       "      <td>(-0.1, 1]</td>\n",
       "    </tr>\n",
       "    <tr>\n",
       "      <th>6</th>\n",
       "      <td>lsw9q7uk0j</td>\n",
       "      <td>2010-01-02</td>\n",
       "      <td>20100102012558</td>\n",
       "      <td>2010-01-05</td>\n",
       "      <td>FEMALE</td>\n",
       "      <td>46.0</td>\n",
       "      <td>basic</td>\n",
       "      <td>0</td>\n",
       "      <td>en</td>\n",
       "      <td>other</td>\n",
       "      <td>...</td>\n",
       "      <td>untracked</td>\n",
       "      <td>Web</td>\n",
       "      <td>Mac</td>\n",
       "      <td>Safari</td>\n",
       "      <td>US</td>\n",
       "      <td>(40, 50]</td>\n",
       "      <td>2010</td>\n",
       "      <td>1</td>\n",
       "      <td>3.0</td>\n",
       "      <td>(1, 7]</td>\n",
       "    </tr>\n",
       "    <tr>\n",
       "      <th>7</th>\n",
       "      <td>0d01nltbrs</td>\n",
       "      <td>2010-01-03</td>\n",
       "      <td>20100103191905</td>\n",
       "      <td>2010-01-13</td>\n",
       "      <td>FEMALE</td>\n",
       "      <td>47.0</td>\n",
       "      <td>basic</td>\n",
       "      <td>0</td>\n",
       "      <td>en</td>\n",
       "      <td>direct</td>\n",
       "      <td>...</td>\n",
       "      <td>omg</td>\n",
       "      <td>Web</td>\n",
       "      <td>Mac</td>\n",
       "      <td>Safari</td>\n",
       "      <td>US</td>\n",
       "      <td>(40, 50]</td>\n",
       "      <td>2010</td>\n",
       "      <td>1</td>\n",
       "      <td>10.0</td>\n",
       "      <td>(7, 30]</td>\n",
       "    </tr>\n",
       "  </tbody>\n",
       "</table>\n",
       "<p>5 rows × 21 columns</p>\n",
       "</div>"
      ],
      "text/plain": [
       "           id date_account_created  timestamp_first_active date_first_booking  \\\n",
       "0  gxn3p5htnn           2010-06-28          20090319043255                NaT   \n",
       "1  820tgsjxq7           2011-05-25          20090523174809                NaT   \n",
       "5  osr2jwljor           2010-01-01          20100101215619         2010-01-02   \n",
       "6  lsw9q7uk0j           2010-01-02          20100102012558         2010-01-05   \n",
       "7  0d01nltbrs           2010-01-03          20100103191905         2010-01-13   \n",
       "\n",
       "      gender     age signup_method  signup_flow language affiliate_channel  \\\n",
       "0  -unknown-  1000.0      facebook            0       en            direct   \n",
       "1       MALE    38.0      facebook            0       en               seo   \n",
       "5  -unknown-  1000.0         basic            0       en             other   \n",
       "6     FEMALE    46.0         basic            0       en             other   \n",
       "7     FEMALE    47.0         basic            0       en            direct   \n",
       "\n",
       "            ...            first_affiliate_tracked signup_app  \\\n",
       "0           ...                          untracked        Web   \n",
       "1           ...                          untracked        Web   \n",
       "5           ...                                omg        Web   \n",
       "6           ...                          untracked        Web   \n",
       "7           ...                                omg        Web   \n",
       "\n",
       "  first_device_type first_browser country_destination        ageCat  \\\n",
       "0               Mac        Chrome                 NDF  (100, 10000]   \n",
       "1               Mac        Chrome                 NDF      (30, 40]   \n",
       "5               Mac        Chrome                  US  (100, 10000]   \n",
       "6               Mac        Safari                  US      (40, 50]   \n",
       "7               Mac        Safari                  US      (40, 50]   \n",
       "\n",
       "  create_year  create_month  time_create_to_book  time_create_to_book_cat  \n",
       "0        2010             6                  NaN                      NaN  \n",
       "1        2011             5                  NaN                      NaN  \n",
       "5        2010             1                  1.0                (-0.1, 1]  \n",
       "6        2010             1                  3.0                   (1, 7]  \n",
       "7        2010             1                 10.0                  (7, 30]  \n",
       "\n",
       "[5 rows x 21 columns]"
      ]
     },
     "execution_count": 5,
     "metadata": {},
     "output_type": "execute_result"
    }
   ],
   "source": [
    "df.head()"
   ]
  },
  {
   "cell_type": "markdown",
   "metadata": {},
   "source": [
    "## ID analysis"
   ]
  },
  {
   "cell_type": "code",
   "execution_count": 6,
   "metadata": {
    "collapsed": false
   },
   "outputs": [
    {
     "data": {
      "text/plain": [
       "(186898, 21)"
      ]
     },
     "execution_count": 6,
     "metadata": {},
     "output_type": "execute_result"
    }
   ],
   "source": [
    "df.shape"
   ]
  },
  {
   "cell_type": "code",
   "execution_count": 7,
   "metadata": {
    "collapsed": false
   },
   "outputs": [
    {
     "data": {
      "text/plain": [
       "(65136,)"
      ]
     },
     "execution_count": 7,
     "metadata": {},
     "output_type": "execute_result"
    }
   ],
   "source": [
    "ids_with_session = df[df.id.isin(df_s.user_id)].id\n",
    "ids_with_session.shape"
   ]
  },
  {
   "cell_type": "markdown",
   "metadata": {},
   "source": [
    "- 35% of users in train data are having session data. \n",
    "- This is because sesseion data are collected for users for 2014. \n",
    "- We first only use user data with session data. "
   ]
  },
  {
   "cell_type": "code",
   "execution_count": 8,
   "metadata": {
    "collapsed": true
   },
   "outputs": [],
   "source": [
    "df_test = pd.read_csv('test_users.csv')"
   ]
  },
  {
   "cell_type": "code",
   "execution_count": 9,
   "metadata": {
    "collapsed": false
   },
   "outputs": [
    {
     "data": {
      "text/plain": [
       "(62096, 15)"
      ]
     },
     "execution_count": 9,
     "metadata": {},
     "output_type": "execute_result"
    }
   ],
   "source": [
    "df_test.shape"
   ]
  },
  {
   "cell_type": "code",
   "execution_count": 10,
   "metadata": {
    "collapsed": false
   },
   "outputs": [
    {
     "data": {
      "text/html": [
       "<div>\n",
       "<table border=\"1\" class=\"dataframe\">\n",
       "  <thead>\n",
       "    <tr style=\"text-align: right;\">\n",
       "      <th></th>\n",
       "      <th>id</th>\n",
       "      <th>date_account_created</th>\n",
       "      <th>timestamp_first_active</th>\n",
       "      <th>date_first_booking</th>\n",
       "      <th>gender</th>\n",
       "      <th>age</th>\n",
       "      <th>signup_method</th>\n",
       "      <th>signup_flow</th>\n",
       "      <th>language</th>\n",
       "      <th>affiliate_channel</th>\n",
       "      <th>affiliate_provider</th>\n",
       "      <th>first_affiliate_tracked</th>\n",
       "      <th>signup_app</th>\n",
       "      <th>first_device_type</th>\n",
       "      <th>first_browser</th>\n",
       "    </tr>\n",
       "  </thead>\n",
       "  <tbody>\n",
       "    <tr>\n",
       "      <th>0</th>\n",
       "      <td>5uwns89zht</td>\n",
       "      <td>2014-07-01</td>\n",
       "      <td>20140701000006</td>\n",
       "      <td>NaN</td>\n",
       "      <td>FEMALE</td>\n",
       "      <td>35.0</td>\n",
       "      <td>facebook</td>\n",
       "      <td>0</td>\n",
       "      <td>en</td>\n",
       "      <td>direct</td>\n",
       "      <td>direct</td>\n",
       "      <td>untracked</td>\n",
       "      <td>Moweb</td>\n",
       "      <td>iPhone</td>\n",
       "      <td>Mobile Safari</td>\n",
       "    </tr>\n",
       "    <tr>\n",
       "      <th>1</th>\n",
       "      <td>jtl0dijy2j</td>\n",
       "      <td>2014-07-01</td>\n",
       "      <td>20140701000051</td>\n",
       "      <td>NaN</td>\n",
       "      <td>-unknown-</td>\n",
       "      <td>NaN</td>\n",
       "      <td>basic</td>\n",
       "      <td>0</td>\n",
       "      <td>en</td>\n",
       "      <td>direct</td>\n",
       "      <td>direct</td>\n",
       "      <td>untracked</td>\n",
       "      <td>Moweb</td>\n",
       "      <td>iPhone</td>\n",
       "      <td>Mobile Safari</td>\n",
       "    </tr>\n",
       "    <tr>\n",
       "      <th>2</th>\n",
       "      <td>xx0ulgorjt</td>\n",
       "      <td>2014-07-01</td>\n",
       "      <td>20140701000148</td>\n",
       "      <td>NaN</td>\n",
       "      <td>-unknown-</td>\n",
       "      <td>NaN</td>\n",
       "      <td>basic</td>\n",
       "      <td>0</td>\n",
       "      <td>en</td>\n",
       "      <td>direct</td>\n",
       "      <td>direct</td>\n",
       "      <td>linked</td>\n",
       "      <td>Web</td>\n",
       "      <td>Windows Desktop</td>\n",
       "      <td>Chrome</td>\n",
       "    </tr>\n",
       "    <tr>\n",
       "      <th>3</th>\n",
       "      <td>6c6puo6ix0</td>\n",
       "      <td>2014-07-01</td>\n",
       "      <td>20140701000215</td>\n",
       "      <td>NaN</td>\n",
       "      <td>-unknown-</td>\n",
       "      <td>NaN</td>\n",
       "      <td>basic</td>\n",
       "      <td>0</td>\n",
       "      <td>en</td>\n",
       "      <td>direct</td>\n",
       "      <td>direct</td>\n",
       "      <td>linked</td>\n",
       "      <td>Web</td>\n",
       "      <td>Windows Desktop</td>\n",
       "      <td>IE</td>\n",
       "    </tr>\n",
       "    <tr>\n",
       "      <th>4</th>\n",
       "      <td>czqhjk3yfe</td>\n",
       "      <td>2014-07-01</td>\n",
       "      <td>20140701000305</td>\n",
       "      <td>NaN</td>\n",
       "      <td>-unknown-</td>\n",
       "      <td>NaN</td>\n",
       "      <td>basic</td>\n",
       "      <td>0</td>\n",
       "      <td>en</td>\n",
       "      <td>direct</td>\n",
       "      <td>direct</td>\n",
       "      <td>untracked</td>\n",
       "      <td>Web</td>\n",
       "      <td>Mac Desktop</td>\n",
       "      <td>Safari</td>\n",
       "    </tr>\n",
       "  </tbody>\n",
       "</table>\n",
       "</div>"
      ],
      "text/plain": [
       "           id date_account_created  timestamp_first_active  \\\n",
       "0  5uwns89zht           2014-07-01          20140701000006   \n",
       "1  jtl0dijy2j           2014-07-01          20140701000051   \n",
       "2  xx0ulgorjt           2014-07-01          20140701000148   \n",
       "3  6c6puo6ix0           2014-07-01          20140701000215   \n",
       "4  czqhjk3yfe           2014-07-01          20140701000305   \n",
       "\n",
       "   date_first_booking     gender   age signup_method  signup_flow language  \\\n",
       "0                 NaN     FEMALE  35.0      facebook            0       en   \n",
       "1                 NaN  -unknown-   NaN         basic            0       en   \n",
       "2                 NaN  -unknown-   NaN         basic            0       en   \n",
       "3                 NaN  -unknown-   NaN         basic            0       en   \n",
       "4                 NaN  -unknown-   NaN         basic            0       en   \n",
       "\n",
       "  affiliate_channel affiliate_provider first_affiliate_tracked signup_app  \\\n",
       "0            direct             direct               untracked      Moweb   \n",
       "1            direct             direct               untracked      Moweb   \n",
       "2            direct             direct                  linked        Web   \n",
       "3            direct             direct                  linked        Web   \n",
       "4            direct             direct               untracked        Web   \n",
       "\n",
       "  first_device_type  first_browser  \n",
       "0            iPhone  Mobile Safari  \n",
       "1            iPhone  Mobile Safari  \n",
       "2   Windows Desktop         Chrome  \n",
       "3   Windows Desktop             IE  \n",
       "4       Mac Desktop         Safari  "
      ]
     },
     "execution_count": 10,
     "metadata": {},
     "output_type": "execute_result"
    }
   ],
   "source": [
    "df_test.head()"
   ]
  },
  {
   "cell_type": "code",
   "execution_count": 11,
   "metadata": {
    "collapsed": false
   },
   "outputs": [
    {
     "data": {
      "text/plain": [
       "(61668,)"
      ]
     },
     "execution_count": 11,
     "metadata": {},
     "output_type": "execute_result"
    }
   ],
   "source": [
    "ids_test_with_session = df_test[df_test.id.isin(df_s.user_id)].id\n",
    "ids_test_with_session.shape"
   ]
  },
  {
   "cell_type": "markdown",
   "metadata": {},
   "source": [
    "- 99.3% of test users have session data\n",
    "- Therefore, we are safe to model using session data. "
   ]
  },
  {
   "cell_type": "code",
   "execution_count": 12,
   "metadata": {
    "collapsed": true
   },
   "outputs": [],
   "source": [
    "df = df[df.id.isin(ids_with_session)]"
   ]
  },
  {
   "cell_type": "code",
   "execution_count": 13,
   "metadata": {
    "collapsed": false
   },
   "outputs": [
    {
     "data": {
      "text/plain": [
       "(65136, 21)"
      ]
     },
     "execution_count": 13,
     "metadata": {},
     "output_type": "execute_result"
    }
   ],
   "source": [
    "df.shape"
   ]
  },
  {
   "cell_type": "code",
   "execution_count": 14,
   "metadata": {
    "collapsed": true
   },
   "outputs": [],
   "source": [
    "df_s = df_s[df_s.user_id.isin(ids_with_session)]"
   ]
  },
  {
   "cell_type": "code",
   "execution_count": 15,
   "metadata": {
    "collapsed": false
   },
   "outputs": [
    {
     "data": {
      "text/plain": [
       "(4733234, 6)"
      ]
     },
     "execution_count": 15,
     "metadata": {},
     "output_type": "execute_result"
    }
   ],
   "source": [
    "df_s.shape"
   ]
  },
  {
   "cell_type": "code",
   "execution_count": 16,
   "metadata": {
    "collapsed": true
   },
   "outputs": [],
   "source": [
    "df.to_csv('train_users_with_session.csv', index=False)\n",
    "df_s.to_csv('train_sessions.csv', index=False)"
   ]
  },
  {
   "cell_type": "markdown",
   "metadata": {},
   "source": [
    "# Combine User and Session Data"
   ]
  },
  {
   "cell_type": "code",
   "execution_count": 17,
   "metadata": {
    "collapsed": true
   },
   "outputs": [],
   "source": [
    "df = pd.read_csv('train_users_with_session.csv')\n",
    "df_s = pd.read_csv('train_sessions.csv')"
   ]
  },
  {
   "cell_type": "code",
   "execution_count": 18,
   "metadata": {
    "collapsed": true
   },
   "outputs": [],
   "source": [
    "user_info = ['gender', 'ageCat','signup_method', 'signup_flow',\n",
    "       'language', 'affiliate_channel', 'affiliate_provider',\n",
    "       'signup_app', 'first_device_type', 'first_browser']\n",
    "target = 'country_destination'"
   ]
  },
  {
   "cell_type": "code",
   "execution_count": 19,
   "metadata": {
    "collapsed": false
   },
   "outputs": [],
   "source": [
    "from sklearn.preprocessing import LabelEncoder\n",
    "for col in user_info+[target]:\n",
    "    df[col] = LabelEncoder().fit_transform(df[col].values)"
   ]
  },
  {
   "cell_type": "code",
   "execution_count": 20,
   "metadata": {
    "collapsed": true
   },
   "outputs": [],
   "source": [
    "import pyprind\n",
    "\n",
    "def combineData(df_origin, df_s):\n",
    "    \n",
    "    df = df_origin.copy()\n",
    "    \n",
    "    col_name='action'\n",
    "    col_idx = 1\n",
    "    \n",
    "    # extract unique action values \n",
    "    actions = [x if pd.notnull(x) else 'missing' for x in df_s[col_name].unique()]\n",
    "    \n",
    "    # add columns for each action values\n",
    "    # 'bag-of-word' type model, with counting vectorization. \n",
    "    for x in actions:\n",
    "        df[x] = 0\n",
    "        df[x+'_sec'] = 0\n",
    "        \n",
    "    # for speed-up purpose, we use numpy values. \n",
    "    # compare to df.iterrows()\n",
    "    df_v = df.values\n",
    "    df_s_v = df_s.values\n",
    "\n",
    "    hash_id_idx = {user_id:idx for idx, user_id in enumerate(df_v[:,0])}\n",
    "    hash_action_idx = {col:idx for idx, col in enumerate(df.columns) if col in actions}\n",
    "    \n",
    "    n = df_s_v.shape[0]\n",
    "    pbar = pyprind.ProgBar(n)\n",
    "    for i in range(n):\n",
    "        user_id = df_s_v[i,0]\n",
    "        user_action = df_s_v[i,col_idx]\n",
    "        user_action_sec = df_s_v[i,5]\n",
    "\n",
    "        if pd.isnull(user_action):\n",
    "            user_action = 'missing'\n",
    "        if pd.isnull(user_action_sec):\n",
    "            user_action_sec = 0\n",
    "\n",
    "        user_idx = hash_id_idx[user_id]\n",
    "        action_idx = hash_action_idx[user_action]\n",
    "        df_v[user_idx, action_idx] += 1\n",
    "        df_v[user_idx, action_idx+1] += user_action_sec\n",
    "\n",
    "        pbar.update()\n",
    "    \n",
    "    df = pd.DataFrame(df_v, columns=df.columns)\n",
    "    return df, actions"
   ]
  },
  {
   "cell_type": "code",
   "execution_count": 21,
   "metadata": {
    "collapsed": false
   },
   "outputs": [
    {
     "name": "stderr",
     "output_type": "stream",
     "text": [
      "0%                          100%\n",
      "[##############################] | ETA: 00:00:00\n",
      "Total time elapsed: 00:00:23\n"
     ]
    }
   ],
   "source": [
    "df2, actions = combineData(df, df_s)"
   ]
  },
  {
   "cell_type": "code",
   "execution_count": 22,
   "metadata": {
    "collapsed": false
   },
   "outputs": [
    {
     "data": {
      "text/plain": [
       "(65136, 679)"
      ]
     },
     "execution_count": 22,
     "metadata": {},
     "output_type": "execute_result"
    }
   ],
   "source": [
    "df2.shape"
   ]
  },
  {
   "cell_type": "code",
   "execution_count": 23,
   "metadata": {
    "collapsed": false
   },
   "outputs": [
    {
     "data": {
      "text/html": [
       "<div>\n",
       "<table border=\"1\" class=\"dataframe\">\n",
       "  <thead>\n",
       "    <tr style=\"text-align: right;\">\n",
       "      <th></th>\n",
       "      <th>dashboard</th>\n",
       "      <th>dashboard_sec</th>\n",
       "      <th>create</th>\n",
       "      <th>create_sec</th>\n",
       "      <th>confirm_email</th>\n",
       "      <th>confirm_email_sec</th>\n",
       "      <th>show</th>\n",
       "      <th>show_sec</th>\n",
       "    </tr>\n",
       "  </thead>\n",
       "  <tbody>\n",
       "    <tr>\n",
       "      <th>0</th>\n",
       "      <td>1</td>\n",
       "      <td>2739</td>\n",
       "      <td>1</td>\n",
       "      <td>0</td>\n",
       "      <td>1</td>\n",
       "      <td>115983</td>\n",
       "      <td>3</td>\n",
       "      <td>71673</td>\n",
       "    </tr>\n",
       "    <tr>\n",
       "      <th>1</th>\n",
       "      <td>0</td>\n",
       "      <td>0</td>\n",
       "      <td>4</td>\n",
       "      <td>617933</td>\n",
       "      <td>0</td>\n",
       "      <td>0</td>\n",
       "      <td>0</td>\n",
       "      <td>0</td>\n",
       "    </tr>\n",
       "    <tr>\n",
       "      <th>2</th>\n",
       "      <td>0</td>\n",
       "      <td>0</td>\n",
       "      <td>2</td>\n",
       "      <td>12952</td>\n",
       "      <td>1</td>\n",
       "      <td>274002</td>\n",
       "      <td>15</td>\n",
       "      <td>562785</td>\n",
       "    </tr>\n",
       "    <tr>\n",
       "      <th>3</th>\n",
       "      <td>0</td>\n",
       "      <td>0</td>\n",
       "      <td>1</td>\n",
       "      <td>0</td>\n",
       "      <td>1</td>\n",
       "      <td>1.37162e+06</td>\n",
       "      <td>0</td>\n",
       "      <td>0</td>\n",
       "    </tr>\n",
       "    <tr>\n",
       "      <th>4</th>\n",
       "      <td>1</td>\n",
       "      <td>1355</td>\n",
       "      <td>0</td>\n",
       "      <td>0</td>\n",
       "      <td>1</td>\n",
       "      <td>46262</td>\n",
       "      <td>0</td>\n",
       "      <td>0</td>\n",
       "    </tr>\n",
       "    <tr>\n",
       "      <th>5</th>\n",
       "      <td>0</td>\n",
       "      <td>0</td>\n",
       "      <td>1</td>\n",
       "      <td>0</td>\n",
       "      <td>0</td>\n",
       "      <td>0</td>\n",
       "      <td>14</td>\n",
       "      <td>242969</td>\n",
       "    </tr>\n",
       "    <tr>\n",
       "      <th>6</th>\n",
       "      <td>1</td>\n",
       "      <td>1832</td>\n",
       "      <td>1</td>\n",
       "      <td>8834</td>\n",
       "      <td>2</td>\n",
       "      <td>11658</td>\n",
       "      <td>81</td>\n",
       "      <td>337983</td>\n",
       "    </tr>\n",
       "    <tr>\n",
       "      <th>7</th>\n",
       "      <td>1</td>\n",
       "      <td>1136</td>\n",
       "      <td>0</td>\n",
       "      <td>0</td>\n",
       "      <td>1</td>\n",
       "      <td>342501</td>\n",
       "      <td>0</td>\n",
       "      <td>0</td>\n",
       "    </tr>\n",
       "    <tr>\n",
       "      <th>8</th>\n",
       "      <td>0</td>\n",
       "      <td>0</td>\n",
       "      <td>1</td>\n",
       "      <td>0</td>\n",
       "      <td>0</td>\n",
       "      <td>0</td>\n",
       "      <td>16</td>\n",
       "      <td>190245</td>\n",
       "    </tr>\n",
       "    <tr>\n",
       "      <th>9</th>\n",
       "      <td>0</td>\n",
       "      <td>0</td>\n",
       "      <td>1</td>\n",
       "      <td>0</td>\n",
       "      <td>0</td>\n",
       "      <td>0</td>\n",
       "      <td>0</td>\n",
       "      <td>0</td>\n",
       "    </tr>\n",
       "  </tbody>\n",
       "</table>\n",
       "</div>"
      ],
      "text/plain": [
       "  dashboard dashboard_sec create create_sec confirm_email confirm_email_sec  \\\n",
       "0         1          2739      1          0             1            115983   \n",
       "1         0             0      4     617933             0                 0   \n",
       "2         0             0      2      12952             1            274002   \n",
       "3         0             0      1          0             1       1.37162e+06   \n",
       "4         1          1355      0          0             1             46262   \n",
       "5         0             0      1          0             0                 0   \n",
       "6         1          1832      1       8834             2             11658   \n",
       "7         1          1136      0          0             1            342501   \n",
       "8         0             0      1          0             0                 0   \n",
       "9         0             0      1          0             0                 0   \n",
       "\n",
       "  show show_sec  \n",
       "0    3    71673  \n",
       "1    0        0  \n",
       "2   15   562785  \n",
       "3    0        0  \n",
       "4    0        0  \n",
       "5   14   242969  \n",
       "6   81   337983  \n",
       "7    0        0  \n",
       "8   16   190245  \n",
       "9    0        0  "
      ]
     },
     "execution_count": 23,
     "metadata": {},
     "output_type": "execute_result"
    }
   ],
   "source": [
    "df2.iloc[0:10,21:29]"
   ]
  },
  {
   "cell_type": "code",
   "execution_count": 24,
   "metadata": {
    "collapsed": true
   },
   "outputs": [],
   "source": [
    "df2.to_csv('train_user_session_merged.csv', index=False)\n",
    "pd.Series(actions).to_csv('actions.csv', index=False)"
   ]
  }
 ],
 "metadata": {
  "anaconda-cloud": {},
  "kernelspec": {
   "display_name": "Python [default]",
   "language": "python",
   "name": "python3"
  },
  "language_info": {
   "codemirror_mode": {
    "name": "ipython",
    "version": 3
   },
   "file_extension": ".py",
   "mimetype": "text/x-python",
   "name": "python",
   "nbconvert_exporter": "python",
   "pygments_lexer": "ipython3",
   "version": "3.5.2"
  }
 },
 "nbformat": 4,
 "nbformat_minor": 1
}

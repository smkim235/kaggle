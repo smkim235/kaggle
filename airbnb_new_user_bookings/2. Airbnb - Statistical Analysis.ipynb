{
 "cells": [
  {
   "cell_type": "markdown",
   "metadata": {},
   "source": [
    "# Statistical Analysis"
   ]
  },
  {
   "cell_type": "markdown",
   "metadata": {},
   "source": [
    "We perform statistical analysis as follows:\n",
    "\n",
    "## User Information:\n",
    "- Run regression analysis for variables to find the significance of each variable. \n",
    "- Run F-test for overall dependence.\n",
    "\n",
    "## Session:\n",
    "- Analyze relation between \n",
    "    - the number of actions and bookings.\n",
    "    - the total seconds and bookings.\n",
    "    - the average second per action and bookings.\n",
    "    - other metrics\n",
    "- Find clusters using actions. We expect 4 clusters: 'no booking', 'guest', 'host', 'guest and host'"
   ]
  },
  {
   "cell_type": "code",
   "execution_count": null,
   "metadata": {
    "collapsed": true
   },
   "outputs": [],
   "source": []
  }
 ],
 "metadata": {
  "anaconda-cloud": {},
  "kernelspec": {
   "display_name": "Python [default]",
   "language": "python",
   "name": "python3"
  },
  "language_info": {
   "codemirror_mode": {
    "name": "ipython",
    "version": 3
   },
   "file_extension": ".py",
   "mimetype": "text/x-python",
   "name": "python",
   "nbconvert_exporter": "python",
   "pygments_lexer": "ipython3",
   "version": "3.5.2"
  }
 },
 "nbformat": 4,
 "nbformat_minor": 1
}

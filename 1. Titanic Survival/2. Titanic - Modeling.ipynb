{
 "cells": [
  {
   "cell_type": "markdown",
   "metadata": {},
   "source": [
    "# Modeling"
   ]
  },
  {
   "cell_type": "markdown",
   "metadata": {},
   "source": [
    "## Plan\n",
    "1. Base accuracy: random guessing.\n",
    "2. Feature engineering from exploratory analysis.\n",
    "3. Apply a decision tree / parameter tuning. \n",
    "4. Evaluate models: learning curve, feature importance, confusion matrix.\n",
    "5. Advanced models: random forest, boosting tree, neural network."
   ]
  },
  {
   "cell_type": "code",
   "execution_count": 1,
   "metadata": {
    "collapsed": true
   },
   "outputs": [],
   "source": [
    "import numpy as np\n",
    "import pandas as pd\n",
    "import matplotlib.pyplot as plt\n",
    "#import seaborn as sns\n",
    "% matplotlib inline"
   ]
  },
  {
   "cell_type": "code",
   "execution_count": 2,
   "metadata": {
    "collapsed": true
   },
   "outputs": [],
   "source": [
    "df = pd.read_csv('train.csv')"
   ]
  },
  {
   "cell_type": "markdown",
   "metadata": {},
   "source": [
    "# 1. Accuracy for random guessing"
   ]
  },
  {
   "cell_type": "code",
   "execution_count": 3,
   "metadata": {
    "collapsed": false
   },
   "outputs": [
    {
     "name": "stdout",
     "output_type": "stream",
     "text": [
      "Overall non-survival rate = 61.6%\n"
     ]
    }
   ],
   "source": [
    "survived_cnt = df.Survived.value_counts()\n",
    "print('Overall non-survival rate = %.1f%%' %(survived_cnt[0]/(survived_cnt[0]+survived_cnt[1])*100))"
   ]
  },
  {
   "cell_type": "markdown",
   "metadata": {},
   "source": [
    "# 2. Preprocess: feature engineering"
   ]
  },
  {
   "cell_type": "code",
   "execution_count": 4,
   "metadata": {
    "collapsed": true
   },
   "outputs": [],
   "source": [
    "from sklearn.preprocessing import LabelEncoder\n",
    "\n",
    "def getTitle(s):\n",
    "    first,last = s.split(',')\n",
    "    \n",
    "    last = last.strip()\n",
    "    title = ''\n",
    "    if last.find('.') != -1:\n",
    "        title = last.split('.')[0]\n",
    "        \n",
    "    if title not in ['Mr', 'Mrs', 'Miss', 'Master']:\n",
    "        return 'Else'\n",
    "    return title\n",
    "\n",
    "def preprocess(df):\n",
    "    X = df.copy()\n",
    "    \n",
    "    X['title'] = X.Name.map(getTitle);\n",
    "\n",
    "    X['familySize'] = X.SibSp + X.Parch\n",
    "    X['familySize'] = X['familySize'].map(lambda x: x+1)\n",
    "    \n",
    "    X.Age.fillna(1000, inplace=True)\n",
    "    X['ageCat'] = pd.cut(X['Age'], bins=[0,18,30,60, 100, 2000])\n",
    "    \n",
    "    X['cabin'] = 0\n",
    "    X.loc[X.Cabin.notnull(), 'cabin'] = 1\n",
    "    \n",
    "    X.Embarked.fillna('C', inplace=True)\n",
    "    \n",
    "    X['Sex'] = LabelEncoder().fit_transform(X['Sex'].values)\n",
    "    X['title'] = LabelEncoder().fit_transform(X['title'].values)\n",
    "    X['ageCat'] = LabelEncoder().fit_transform(X['ageCat'].values)\n",
    "    X['Embarked'] = LabelEncoder().fit_transform(X['Embarked'].values)\n",
    "    \n",
    "    X = X[['Pclass','Sex', 'title', 'familySize', 'Fare', 'Age', 'cabin', 'Embarked']]\n",
    "    \n",
    "    return X"
   ]
  },
  {
   "cell_type": "code",
   "execution_count": 5,
   "metadata": {
    "collapsed": false
   },
   "outputs": [],
   "source": [
    "X = preprocess(df)\n",
    "y = df['Survived']"
   ]
  },
  {
   "cell_type": "code",
   "execution_count": 6,
   "metadata": {
    "collapsed": false
   },
   "outputs": [
    {
     "data": {
      "text/html": [
       "<div>\n",
       "<table border=\"1\" class=\"dataframe\">\n",
       "  <thead>\n",
       "    <tr style=\"text-align: right;\">\n",
       "      <th></th>\n",
       "      <th>Pclass</th>\n",
       "      <th>Sex</th>\n",
       "      <th>title</th>\n",
       "      <th>familySize</th>\n",
       "      <th>Fare</th>\n",
       "      <th>Age</th>\n",
       "      <th>cabin</th>\n",
       "      <th>Embarked</th>\n",
       "    </tr>\n",
       "  </thead>\n",
       "  <tbody>\n",
       "    <tr>\n",
       "      <th>0</th>\n",
       "      <td>3</td>\n",
       "      <td>1</td>\n",
       "      <td>3</td>\n",
       "      <td>2</td>\n",
       "      <td>7.2500</td>\n",
       "      <td>22.0</td>\n",
       "      <td>0</td>\n",
       "      <td>2</td>\n",
       "    </tr>\n",
       "    <tr>\n",
       "      <th>1</th>\n",
       "      <td>1</td>\n",
       "      <td>0</td>\n",
       "      <td>4</td>\n",
       "      <td>2</td>\n",
       "      <td>71.2833</td>\n",
       "      <td>38.0</td>\n",
       "      <td>1</td>\n",
       "      <td>0</td>\n",
       "    </tr>\n",
       "    <tr>\n",
       "      <th>2</th>\n",
       "      <td>3</td>\n",
       "      <td>0</td>\n",
       "      <td>2</td>\n",
       "      <td>1</td>\n",
       "      <td>7.9250</td>\n",
       "      <td>26.0</td>\n",
       "      <td>0</td>\n",
       "      <td>2</td>\n",
       "    </tr>\n",
       "    <tr>\n",
       "      <th>3</th>\n",
       "      <td>1</td>\n",
       "      <td>0</td>\n",
       "      <td>4</td>\n",
       "      <td>2</td>\n",
       "      <td>53.1000</td>\n",
       "      <td>35.0</td>\n",
       "      <td>1</td>\n",
       "      <td>2</td>\n",
       "    </tr>\n",
       "    <tr>\n",
       "      <th>4</th>\n",
       "      <td>3</td>\n",
       "      <td>1</td>\n",
       "      <td>3</td>\n",
       "      <td>1</td>\n",
       "      <td>8.0500</td>\n",
       "      <td>35.0</td>\n",
       "      <td>0</td>\n",
       "      <td>2</td>\n",
       "    </tr>\n",
       "  </tbody>\n",
       "</table>\n",
       "</div>"
      ],
      "text/plain": [
       "   Pclass  Sex  title  familySize     Fare   Age  cabin  Embarked\n",
       "0       3    1      3           2   7.2500  22.0      0         2\n",
       "1       1    0      4           2  71.2833  38.0      1         0\n",
       "2       3    0      2           1   7.9250  26.0      0         2\n",
       "3       1    0      4           2  53.1000  35.0      1         2\n",
       "4       3    1      3           1   8.0500  35.0      0         2"
      ]
     },
     "execution_count": 6,
     "metadata": {},
     "output_type": "execute_result"
    }
   ],
   "source": [
    "X.head()"
   ]
  },
  {
   "cell_type": "markdown",
   "metadata": {},
   "source": [
    "# 3. Modeling with a decision tree "
   ]
  },
  {
   "cell_type": "code",
   "execution_count": 7,
   "metadata": {
    "collapsed": true
   },
   "outputs": [],
   "source": [
    "from sklearn.tree import DecisionTreeClassifier\n",
    "from sklearn.ensemble import RandomForestClassifier\n",
    "from sklearn.ensemble import GradientBoostingClassifier\n",
    "from sklearn.ensemble import AdaBoostClassifier\n",
    "\n",
    "from sklearn.model_selection import train_test_split\n",
    "from sklearn.model_selection import GridSearchCV\n",
    "from sklearn.model_selection import cross_val_score\n",
    "import time\n",
    "from sklearn import tree\n",
    "import pydotplus \n",
    "from IPython.display import Image  \n",
    "\n",
    "def printFeatureImportance(clf, X,y):\n",
    "    print('\\n feature importance:')\n",
    "    clf.fit(X, y)\n",
    "    features = X.columns\n",
    "    importances = clf.feature_importances_\n",
    "    arg_sort = np.argsort(importances)[::-1]\n",
    "    n = min(len(features), 10)\n",
    "    for i in range(n):\n",
    "        idx = arg_sort[i]\n",
    "        print('%2d. %-*s %.2f %%' %(i+1,15, features[idx],importances[idx]*100))\n",
    "        \n",
    "def printTreeNode(clf, feature_names=None, class_names=None):\n",
    "    dot_data = tree.export_graphviz(clf, \n",
    "                                out_file=None, \n",
    "                                feature_names=feature_names,  \n",
    "                                class_names=class_names,  \n",
    "                                filled=True, rounded=True,  \n",
    "                                special_characters=True)  \n",
    "    graph = pydotplus.graph_from_dot_data(dot_data)  \n",
    "    return graph.create_png()\n",
    "        \n",
    "def fitTree(X,y, estimator=DecisionTreeClassifier, param_grid=None, cv=5):\n",
    "    t1 = time.time()\n",
    "    \n",
    "    X_train, X_test, y_train, y_test = train_test_split(X,y, test_size=0.3)\n",
    "    \n",
    "    clf = estimator()\n",
    "     \n",
    "    if param_grid:\n",
    "        gs = GridSearchCV(estimator=clf,\n",
    "                    param_grid=param_grid,\n",
    "                    scoring='accuracy',\n",
    "                    cv=cv)\n",
    "        gs = gs.fit(X_train, y_train)\n",
    "        clf = gs.best_estimator_\n",
    "        print('best param: ' + str(gs.best_params_))\n",
    "        print('grid search time: %.2f sec.' %(time.time()-t1))\n",
    "    \n",
    "    train_scores = cross_val_score(estimator=clf, X=X_train, y=y_train, cv=cv)\n",
    "    test_scores = cross_val_score(estimator=clf, X=X_test, y=y_test, cv=cv)\n",
    "    \n",
    "    print('train mean accuracy: %.2f %% (std=%.2f %%)' \n",
    "              %(np.mean(train_scores)*100, np.std(train_scores)*100))\n",
    "    print('test mean accuracy: %.2f %% (std=%.2f %%)' \n",
    "              %(np.mean(test_scores)*100, np.std(test_scores)*100))\n",
    "    \n",
    "    printFeatureImportance(clf,X,y)\n",
    "    print('\\n total time: %.2f sec.' %(time.time()-t1))\n",
    "    return clf"
   ]
  },
  {
   "cell_type": "code",
   "execution_count": 8,
   "metadata": {
    "collapsed": true
   },
   "outputs": [],
   "source": [
    "from sklearn.model_selection import learning_curve\n",
    "def drawLearningCurve(clf, X, y):\n",
    "    train_sizes, train_scores, test_scores = learning_curve(estimator=clf, X=X, y=y, cv=5, train_sizes=np.linspace(0.1,1,10))\n",
    "    \n",
    "    train_mean = np.mean(train_scores, axis=1)\n",
    "    train_std = np.std(train_scores, axis=1)\n",
    "    plt.plot(train_sizes, train_mean, 'b-')\n",
    "\n",
    "    test_mean = np.mean(test_scores, axis=1)\n",
    "    test_std = np.std(test_scores, axis=1)\n",
    "    plt.plot(train_sizes, test_mean, 'r-')\n",
    "\n",
    "    plt.fill_between(train_sizes, train_mean-train_std, train_mean+train_std, alpha=0.1, color='blue')\n",
    "    plt.fill_between(train_sizes, test_mean-test_std, test_mean+test_std, alpha=0.1, color='red')"
   ]
  },
  {
   "cell_type": "code",
   "execution_count": 9,
   "metadata": {
    "collapsed": false
   },
   "outputs": [
    {
     "name": "stdout",
     "output_type": "stream",
     "text": [
      "train mean accuracy: 76.24 % (std=2.28 %)\n",
      "test mean accuracy: 74.62 % (std=3.51 %)\n",
      "\n",
      " feature importance:\n",
      " 1. Sex             30.53 %\n",
      " 2. Age             24.47 %\n",
      " 3. Fare            20.97 %\n",
      " 4. Pclass          8.81 %\n",
      " 5. familySize      6.99 %\n",
      " 6. cabin           4.03 %\n",
      " 7. title           2.29 %\n",
      " 8. Embarked        1.91 %\n",
      "\n",
      " total time: 0.06 sec.\n"
     ]
    },
    {
     "data": {
      "text/plain": [
       "DecisionTreeClassifier(class_weight=None, criterion='gini', max_depth=None,\n",
       "            max_features=None, max_leaf_nodes=None,\n",
       "            min_impurity_split=1e-07, min_samples_leaf=1,\n",
       "            min_samples_split=2, min_weight_fraction_leaf=0.0,\n",
       "            presort=False, random_state=None, splitter='best')"
      ]
     },
     "execution_count": 9,
     "metadata": {},
     "output_type": "execute_result"
    }
   ],
   "source": [
    "clf_dt = fitTree(X,y)\n",
    "clf_dt"
   ]
  },
  {
   "cell_type": "code",
   "execution_count": 10,
   "metadata": {
    "collapsed": false
   },
   "outputs": [
    {
     "data": {
      "image/png": "[encoded data removed]",
      "text/plain": [
       "<matplotlib.figure.Figure at 0x1bd09d1cdd8>"
      ]
     },
     "metadata": {},
     "output_type": "display_data"
    }
   ],
   "source": [
    "drawLearningCurve(clf_dt, X, y)"
   ]
  },
  {
   "cell_type": "markdown",
   "metadata": {},
   "source": [
    "- We see that the model is suffering from overfitting."
   ]
  },
  {
   "cell_type": "markdown",
   "metadata": {},
   "source": [
    "## Parameter tuning"
   ]
  },
  {
   "cell_type": "markdown",
   "metadata": {},
   "source": [
    "- We use GridSearchCV for parameter tuning, in this case 'max_depth' of a tree. \n",
    "- We print feature importance (relative contribution to 'gini index' improvement).\n",
    "- We visualize a decision tree."
   ]
  },
  {
   "cell_type": "code",
   "execution_count": 11,
   "metadata": {
    "collapsed": false
   },
   "outputs": [
    {
     "name": "stdout",
     "output_type": "stream",
     "text": [
      "best param: {'max_depth': 3}\n",
      "grid search time: 0.11 sec.\n",
      "train mean accuracy: 79.62 % (std=1.38 %)\n",
      "test mean accuracy: 80.98 % (std=1.18 %)\n",
      "\n",
      " feature importance:\n",
      " 1. Sex             64.22 %\n",
      " 2. Pclass          16.08 %\n",
      " 3. cabin           7.28 %\n",
      " 4. Age             7.24 %\n",
      " 5. familySize      5.19 %\n",
      " 6. Embarked        0.00 %\n",
      " 7. Fare            0.00 %\n",
      " 8. title           0.00 %\n",
      "\n",
      " total time: 0.13 sec.\n"
     ]
    },
    {
     "data": {
      "text/plain": [
       "DecisionTreeClassifier(class_weight=None, criterion='gini', max_depth=3,\n",
       "            max_features=None, max_leaf_nodes=None,\n",
       "            min_impurity_split=1e-07, min_samples_leaf=1,\n",
       "            min_samples_split=2, min_weight_fraction_leaf=0.0,\n",
       "            presort=False, random_state=None, splitter='best')"
      ]
     },
     "execution_count": 11,
     "metadata": {},
     "output_type": "execute_result"
    }
   ],
   "source": [
    "param_grid = [ {'max_depth':[3,4,5]} ]\n",
    "\n",
    "clf_dt_gs = fitTree(X,y,param_grid=param_grid)\n",
    "clf_dt_gs"
   ]
  },
  {
   "cell_type": "markdown",
   "metadata": {},
   "source": [
    "# Visualize decision rules"
   ]
  },
  {
   "cell_type": "code",
   "execution_count": 12,
   "metadata": {
    "collapsed": false
   },
   "outputs": [
    {
     "name": "stdout",
     "output_type": "stream",
     "text": [
      "best param: {'max_depth': 2}\n",
      "grid search time: 0.03 sec.\n",
      "train mean accuracy: 79.28 % (std=2.63 %)\n",
      "test mean accuracy: 82.07 % (std=4.62 %)\n",
      "\n",
      " feature importance:\n",
      " 1. Sex             73.33 %\n",
      " 2. Pclass          18.36 %\n",
      " 3. cabin           8.31 %\n",
      " 4. Embarked        0.00 %\n",
      " 5. Age             0.00 %\n",
      " 6. Fare            0.00 %\n",
      " 7. familySize      0.00 %\n",
      " 8. title           0.00 %\n",
      "\n",
      " total time: 0.09 sec.\n"
     ]
    },
    {
     "data": {
      "image/png": "[encoded data removed]",
      "text/plain": [
       "<IPython.core.display.Image object>"
      ]
     },
     "execution_count": 12,
     "metadata": {},
     "output_type": "execute_result"
    }
   ],
   "source": [
    "param_grid = [ {'max_depth':[2]} ]\n",
    "Image(printTreeNode(fitTree(X,y,param_grid=param_grid), \n",
    "    feature_names=['Pclass','Sex', 'title', 'familySize', 'Fare', 'Age', 'cabin', 'Embarked'], \n",
    "    class_names=['Not Survived', 'Survivied']))"
   ]
  },
  {
   "cell_type": "markdown",
   "metadata": {},
   "source": [
    "- We see that Sex is dominating feature, and PClass follows next.\n",
    "- Title is 0% as we expect the variable would highly depend on 'Sex', 'Age', and 'Family Size'."
   ]
  },
  {
   "cell_type": "markdown",
   "metadata": {},
   "source": [
    "## Learning curve"
   ]
  },
  {
   "cell_type": "code",
   "execution_count": 13,
   "metadata": {
    "collapsed": false
   },
   "outputs": [
    {
     "data": {
      "image/png": "[encoded data removed]",
      "text/plain": [
       "<matplotlib.figure.Figure at 0x1bd0cf3c898>"
      ]
     },
     "metadata": {},
     "output_type": "display_data"
    }
   ],
   "source": [
    "drawLearningCurve(clf_dt_gs, X, y)"
   ]
  },
  {
   "cell_type": "markdown",
   "metadata": {},
   "source": [
    "- We see that 'Sex' feature always has greatest impact. A decision tree might suffer from local minimum in optimization by always dividing 1st node by Sex (failure of the greedy algorithm). \n",
    "\n",
    "- To avoid this issue, we try a random forest classifier which resolve this issue by 'random feature selection at each step' and 'bootstrapping and voting'.  "
   ]
  },
  {
   "cell_type": "markdown",
   "metadata": {},
   "source": [
    "## Other metrics"
   ]
  },
  {
   "cell_type": "code",
   "execution_count": 14,
   "metadata": {
    "collapsed": true
   },
   "outputs": [],
   "source": [
    "from sklearn.metrics import confusion_matrix, classification_report"
   ]
  },
  {
   "cell_type": "code",
   "execution_count": 15,
   "metadata": {
    "collapsed": true
   },
   "outputs": [],
   "source": [
    "X_train, X_test, y_train, y_test = train_test_split(X,y, test_size=0.3)"
   ]
  },
  {
   "cell_type": "code",
   "execution_count": 16,
   "metadata": {
    "collapsed": false
   },
   "outputs": [],
   "source": [
    "clf_dt_gs.fit(X_train, y_train)\n",
    "y_pred = clf_dt_gs.predict(X_test)"
   ]
  },
  {
   "cell_type": "code",
   "execution_count": 17,
   "metadata": {
    "collapsed": false
   },
   "outputs": [
    {
     "data": {
      "image/png": "[encoded data removed]",
      "text/plain": [
       "<matplotlib.figure.Figure at 0x1bd0b949320>"
      ]
     },
     "metadata": {},
     "output_type": "display_data"
    }
   ],
   "source": [
    "mat = confusion_matrix(y_test, y_pred)\n",
    "fig, ax = plt.subplots(figsize=(2.5,2.5))\n",
    "ax.matshow(mat, cmap=plt.cm.Blues, alpha=0.3)\n",
    "for i in range(2):\n",
    "    for j in range(2):\n",
    "        ax.text(x=i,y=j,s=mat[i,j])\n",
    "plt.show()"
   ]
  },
  {
   "cell_type": "code",
   "execution_count": 18,
   "metadata": {
    "collapsed": false
   },
   "outputs": [
    {
     "name": "stdout",
     "output_type": "stream",
     "text": [
      "             precision    recall  f1-score   support\n",
      "\n",
      "          0       0.84      0.83      0.84       162\n",
      "          1       0.75      0.76      0.76       106\n",
      "\n",
      "avg / total       0.81      0.81      0.81       268\n",
      "\n"
     ]
    }
   ],
   "source": [
    "print(classification_report(y_test, y_pred))"
   ]
  },
  {
   "cell_type": "markdown",
   "metadata": {},
   "source": [
    "- We see that the current classifier is having more difficulty in predicting 'survived' than 'not survivied'."
   ]
  },
  {
   "cell_type": "markdown",
   "metadata": {},
   "source": [
    "# 6. Advanced Models"
   ]
  },
  {
   "cell_type": "markdown",
   "metadata": {},
   "source": [
    "## Random Forest"
   ]
  },
  {
   "cell_type": "code",
   "execution_count": 19,
   "metadata": {
    "collapsed": false
   },
   "outputs": [
    {
     "name": "stdout",
     "output_type": "stream",
     "text": [
      "best param: {'max_depth': 3, 'n_estimators': 20, 'max_features': 5}\n",
      "grid search time: 1.08 sec.\n",
      "train mean accuracy: 80.10 % (std=1.73 %)\n",
      "test mean accuracy: 82.47 % (std=2.45 %)\n",
      "\n",
      " feature importance:\n",
      " 1. Sex             45.74 %\n",
      " 2. title           18.26 %\n",
      " 3. Pclass          10.56 %\n",
      " 4. Fare            8.88 %\n",
      " 5. familySize      6.07 %\n",
      " 6. cabin           5.24 %\n",
      " 7. Age             4.36 %\n",
      " 8. Embarked        0.89 %\n",
      "\n",
      " total time: 1.41 sec.\n"
     ]
    },
    {
     "data": {
      "text/plain": [
       "RandomForestClassifier(bootstrap=True, class_weight=None, criterion='gini',\n",
       "            max_depth=3, max_features=5, max_leaf_nodes=None,\n",
       "            min_impurity_split=1e-07, min_samples_leaf=1,\n",
       "            min_samples_split=2, min_weight_fraction_leaf=0.0,\n",
       "            n_estimators=20, n_jobs=1, oob_score=False, random_state=None,\n",
       "            verbose=0, warm_start=False)"
      ]
     },
     "execution_count": 19,
     "metadata": {},
     "output_type": "execute_result"
    }
   ],
   "source": [
    "param_grid = [ {'n_estimators':[10, 20], \n",
    "                'max_depth':[3,5], \n",
    "                'max_features':[3,5]} ]\n",
    "\n",
    "clf_rf_gs = fitTree(X,y, estimator=RandomForestClassifier, param_grid=param_grid)\n",
    "clf_rf_gs"
   ]
  },
  {
   "cell_type": "markdown",
   "metadata": {},
   "source": [
    "- We don't see a noticeable improvement here. \n",
    "- Even though we still see 'Sex' is the most important feature, we see that other variables like title come into play."
   ]
  },
  {
   "cell_type": "markdown",
   "metadata": {},
   "source": [
    "## Boosting Tree. "
   ]
  },
  {
   "cell_type": "code",
   "execution_count": 20,
   "metadata": {
    "collapsed": false
   },
   "outputs": [
    {
     "name": "stdout",
     "output_type": "stream",
     "text": [
      "best param: {'learning_rate': 0.1, 'n_estimators': 50, 'max_depth': 3, 'max_features': None}\n",
      "grid search time: 20.86 sec.\n",
      "train mean accuracy: 84.43 % (std=1.72 %)\n",
      "test mean accuracy: 76.81 % (std=10.54 %)\n",
      "\n",
      " feature importance:\n",
      " 1. Fare            33.34 %\n",
      " 2. Sex             23.37 %\n",
      " 3. Age             17.18 %\n",
      " 4. familySize      11.19 %\n",
      " 5. Pclass          6.44 %\n",
      " 6. Embarked        3.51 %\n",
      " 7. cabin           2.83 %\n",
      " 8. title           2.15 %\n",
      "\n",
      " total time: 21.30 sec.\n"
     ]
    },
    {
     "data": {
      "text/plain": [
       "GradientBoostingClassifier(criterion='friedman_mse', init=None,\n",
       "              learning_rate=0.1, loss='deviance', max_depth=3,\n",
       "              max_features=None, max_leaf_nodes=None,\n",
       "              min_impurity_split=1e-07, min_samples_leaf=1,\n",
       "              min_samples_split=2, min_weight_fraction_leaf=0.0,\n",
       "              n_estimators=50, presort='auto', random_state=None,\n",
       "              subsample=1.0, verbose=0, warm_start=False)"
      ]
     },
     "execution_count": 20,
     "metadata": {},
     "output_type": "execute_result"
    }
   ],
   "source": [
    "param_grid = [ {'n_estimators':[50, 100], \n",
    "                'learning_rate':[0.01,0.1],\n",
    "                'max_depth':[3,5,7],\n",
    "                'max_features':[3,5,None]} ]\n",
    "\n",
    "clf_gb_gs = fitTree(X,y, estimator=GradientBoostingClassifier, param_grid=param_grid)\n",
    "clf_gb_gs"
   ]
  },
  {
   "cell_type": "markdown",
   "metadata": {},
   "source": [
    "## Neural Network (Multilayer Perception)"
   ]
  },
  {
   "cell_type": "markdown",
   "metadata": {},
   "source": [
    "For the last advanced model, we apply a neural network using keras with only 1 hidden layer of 5 nodes. We also apply a regularization by adding a dropout layer. "
   ]
  },
  {
   "cell_type": "code",
   "execution_count": 21,
   "metadata": {
    "collapsed": false
   },
   "outputs": [
    {
     "name": "stderr",
     "output_type": "stream",
     "text": [
      "Using TensorFlow backend.\n"
     ]
    }
   ],
   "source": [
    "from keras.models import Sequential\n",
    "from keras.layers.core import Dense, Activation, Dropout\n",
    "\n",
    "from sklearn.model_selection import train_test_split\n",
    "from sklearn.preprocessing import OneHotEncoder\n",
    "from sklearn.model_selection import StratifiedKFold\n",
    "import time\n",
    "\n",
    "def fitNN(X,y):\n",
    "    t1 = time.time()\n",
    "    \n",
    "    X_ohe = OneHotEncoder(categorical_features=[0,2,7]).fit_transform(X).toarray()\n",
    "    y_ohe = OneHotEncoder().fit_transform(y.reshape(-1,1)).toarray()    \n",
    "        \n",
    "    model = Sequential()\n",
    "    model.add(Dense(10, input_dim=X_ohe.shape[1], init='uniform', activation='sigmoid'))\n",
    "    model.add(Dense(5, init='uniform', activation='sigmoid')) \n",
    "    model.add(Dropout(0.3))\n",
    "    model.add(Dense(2, activation='softmax'))\n",
    "    model.compile(optimizer='adam', loss='categorical_crossentropy', metrics=[\"accuracy\"])\n",
    "    \n",
    "    skf = StratifiedKFold(n_splits=5)\n",
    "    train_scores = []\n",
    "    test_scores = []\n",
    "    for train_index, test_index in skf.split(X, y):\n",
    "        X_train, X_test = X_ohe[train_index], X_ohe[test_index]\n",
    "        y_train, y_test = y_ohe[train_index], y_ohe[test_index]\n",
    "\n",
    "        model.fit(X_train, y_train, nb_epoch=10, batch_size=1, verbose=0)\n",
    "        _, train_accuracy = model.evaluate(X_train, y_train, verbose=0)\n",
    "        _, test_accuracy = model.evaluate(X_test, y_test, verbose=0)\n",
    "        \n",
    "        train_scores.append(train_accuracy)\n",
    "        test_scores.append(test_accuracy)\n",
    "    \n",
    "    print('train mean accuracy: %.2f %% (std=%.2f %%)' %(np.mean(train_scores)*100, np.std(train_scores)*100))\n",
    "    print('test mean accuracy: %.2f %% (std=%.2f %%)' %(np.mean(test_scores)*100, np.std(test_scores)*100))\n",
    "    \n",
    "    print('\\n total time: %.2f sec.' %(time.time()-t1))\n",
    "    return model"
   ]
  },
  {
   "cell_type": "code",
   "execution_count": 22,
   "metadata": {
    "collapsed": false
   },
   "outputs": [
    {
     "name": "stdout",
     "output_type": "stream",
     "text": [
      "train mean accuracy: 80.56 % (std=0.70 %)\n",
      "test mean accuracy: 79.59 % (std=4.09 %)\n",
      "\n",
      " total time: 46.71 sec.\n"
     ]
    }
   ],
   "source": [
    "model = fitNN(X,y)"
   ]
  },
  {
   "cell_type": "markdown",
   "metadata": {},
   "source": [
    "- We still see no significant improvement compared to tree-based classifiers. "
   ]
  }
 ],
 "metadata": {
  "anaconda-cloud": {},
  "kernelspec": {
   "display_name": "Python [default]",
   "language": "python",
   "name": "python3"
  },
  "language_info": {
   "codemirror_mode": {
    "name": "ipython",
    "version": 3
   },
   "file_extension": ".py",
   "mimetype": "text/x-python",
   "name": "python",
   "nbconvert_exporter": "python",
   "pygments_lexer": "ipython3",
   "version": "3.5.2"
  }
 },
 "nbformat": 4,
 "nbformat_minor": 1
}

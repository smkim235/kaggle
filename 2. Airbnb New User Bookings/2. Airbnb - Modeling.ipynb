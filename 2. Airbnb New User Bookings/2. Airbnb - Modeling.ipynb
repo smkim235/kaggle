{
 "cells": [
  {
   "cell_type": "markdown",
   "metadata": {},
   "source": [
    "# Modeling\n",
    "We test the combination of features from \n",
    "- user_info.\n",
    "- action vector. \n",
    "- action_seconds vector. \n",
    "- the tf-idf transformation.\n",
    "\n",
    "Then we apply logistic regression and random forest. We choose logistic regression because feature dimension is high, and it would be relatively easy to separate linearly. We also apply random forest for the feature analysis and comparision. "
   ]
  },
  {
   "cell_type": "markdown",
   "metadata": {},
   "source": [
    "# Summary\n",
    "- We get around 10% increase in accuracy from the logistic regression model. \n",
    "- We get around 10% increase in accuracy with the random forest model. \n",
    "- We see that age has the highest importance.\n",
    "- signup_method plays an important role while we didn't see it in the exploratory analysis. We need further analysis for this. \n",
    "- We see that activities like 'pending', 'requested' are an important feature for booking analysis. It could be a good starting point to analyze session data. "
   ]
  },
  {
   "cell_type": "code",
   "execution_count": 1,
   "metadata": {
    "collapsed": true
   },
   "outputs": [],
   "source": [
    "import pandas as pd\n",
    "import numpy as np\n",
    "import matplotlib.pyplot as plt\n",
    "%matplotlib inline"
   ]
  },
  {
   "cell_type": "code",
   "execution_count": 2,
   "metadata": {
    "collapsed": true
   },
   "outputs": [],
   "source": [
    "df = pd.read_csv('train_user_session_merged.csv')"
   ]
  },
  {
   "cell_type": "code",
   "execution_count": 3,
   "metadata": {
    "collapsed": false
   },
   "outputs": [
    {
     "data": {
      "text/plain": [
       "(65136, 679)"
      ]
     },
     "execution_count": 3,
     "metadata": {},
     "output_type": "execute_result"
    }
   ],
   "source": [
    "df.shape"
   ]
  },
  {
   "cell_type": "markdown",
   "metadata": {},
   "source": [
    "# 1. Data Setup"
   ]
  },
  {
   "cell_type": "markdown",
   "metadata": {},
   "source": [
    "## Preprocess"
   ]
  },
  {
   "cell_type": "code",
   "execution_count": 4,
   "metadata": {
    "collapsed": false
   },
   "outputs": [],
   "source": [
    "from sklearn.preprocessing import LabelEncoder\n",
    "\n",
    "user_info = ['gender', 'ageCat','signup_method', 'signup_flow',\n",
    "           'language', 'affiliate_channel', 'affiliate_provider',\n",
    "           'signup_app', 'first_device_type', 'first_browser','signup_device']\n",
    "\n",
    "target = 'country_destination'\n",
    "\n",
    "actions = pd.read_csv('actions.csv', header=None, names=['action']).action.tolist()\n",
    "actions_sec = [action+'_sec' for action in actions]\n",
    "\n",
    "actions_summary = ['n_action', 'total_sec', 'avg_sec_per_action']\n",
    "\n",
    "for col in user_info:\n",
    "    df[col] = LabelEncoder().fit_transform(df[col])"
   ]
  },
  {
   "cell_type": "code",
   "execution_count": 5,
   "metadata": {
    "collapsed": true
   },
   "outputs": [],
   "source": [
    "from sklearn.model_selection import train_test_split\n",
    "\n",
    "feature_columns = []\n",
    "feature_columns += user_info\n",
    "feature_columns += actions\n",
    "\n",
    "categorical_features=[i for i in range(len(user_info))]\n",
    "numeric_features = [col for idx, col in enumerate(feature_columns) if idx not in categorical_features]"
   ]
  },
  {
   "cell_type": "code",
   "execution_count": 6,
   "metadata": {
    "collapsed": true
   },
   "outputs": [],
   "source": [
    "X = df[feature_columns]\n",
    "y = df[target]\n",
    "X_train, X_test, y_train, y_test = train_test_split(X,y, test_size=0.3, random_state=0)"
   ]
  },
  {
   "cell_type": "markdown",
   "metadata": {},
   "source": [
    "## Base Accuracy"
   ]
  },
  {
   "cell_type": "code",
   "execution_count": 7,
   "metadata": {
    "collapsed": false
   },
   "outputs": [
    {
     "data": {
      "text/plain": [
       "NDF    69.149165\n",
       "US     30.850835\n",
       "Name: country_destination, dtype: float64"
      ]
     },
     "execution_count": 7,
     "metadata": {},
     "output_type": "execute_result"
    }
   ],
   "source": [
    "# original data\n",
    "y_cnt = df.country_destination.value_counts()\n",
    "y_cnt_percent = y_cnt/y_cnt.sum()*100\n",
    "y_cnt_percent"
   ]
  },
  {
   "cell_type": "markdown",
   "metadata": {},
   "source": [
    "# 2. Logistic Regression"
   ]
  },
  {
   "cell_type": "code",
   "execution_count": 8,
   "metadata": {
    "collapsed": false
   },
   "outputs": [
    {
     "name": "stderr",
     "output_type": "stream",
     "text": [
      "C:\\Users\\smkim\\Anaconda3\\lib\\site-packages\\pandas\\core\\indexing.py:465: SettingWithCopyWarning: \n",
      "A value is trying to be set on a copy of a slice from a DataFrame.\n",
      "Try using .loc[row_indexer,col_indexer] = value instead\n",
      "\n",
      "See the caveats in the documentation: http://pandas.pydata.org/pandas-docs/stable/indexing.html#indexing-view-versus-copy\n",
      "  self.obj[item] = s\n"
     ]
    }
   ],
   "source": [
    "from sklearn.preprocessing import StandardScaler\n",
    "from sklearn.preprocessing import OneHotEncoder\n",
    "\n",
    "X = df[feature_columns].copy()\n",
    "y = df[target].copy()\n",
    "X_train, X_test, y_train, y_test = train_test_split(X,y, test_size=0.3, random_state=0)\n",
    "\n",
    "# standarize using train data\n",
    "std = StandardScaler()\n",
    "X_train.loc[:,numeric_features] = std.fit_transform(X_train[numeric_features])\n",
    "X_test.loc[:,numeric_features] = std.transform(X_test[numeric_features])\n",
    "\n",
    "# dummy variables for categorical variables\n",
    "ohe = OneHotEncoder(categorical_features=categorical_features)\n",
    "X_train_ohe = ohe.fit_transform(X_train).toarray()\n",
    "X_test_ohe = ohe.transform(X_test).toarray()"
   ]
  },
  {
   "cell_type": "code",
   "execution_count": 9,
   "metadata": {
    "collapsed": false
   },
   "outputs": [],
   "source": [
    "from sklearn.linear_model import LogisticRegression\n",
    "\n",
    "clf = LogisticRegression()\n",
    "clf.fit(X_train_ohe, y_train)\n",
    "y_pred = clf.predict(X_test_ohe)"
   ]
  },
  {
   "cell_type": "code",
   "execution_count": 10,
   "metadata": {
    "collapsed": false
   },
   "outputs": [
    {
     "name": "stdout",
     "output_type": "stream",
     "text": [
      "train accuracy: 79.48 %\n",
      "test accuracy: 78.97 %\n"
     ]
    }
   ],
   "source": [
    "print('train accuracy: %.2f %%' %(clf.score(X_train_ohe, y_train)*100))\n",
    "print('test accuracy: %.2f %%' %(clf.score(X_test_ohe, y_test)*100))"
   ]
  },
  {
   "cell_type": "code",
   "execution_count": 11,
   "metadata": {
    "collapsed": false
   },
   "outputs": [
    {
     "data": {
      "image/png": "[encoded data removed]",
      "text/plain": [
       "<matplotlib.figure.Figure at 0x1da960f6a20>"
      ]
     },
     "metadata": {},
     "output_type": "display_data"
    },
    {
     "name": "stdout",
     "output_type": "stream",
     "text": [
      "             precision    recall  f1-score   support\n",
      "\n",
      "        NDF       0.82      0.89      0.85     13520\n",
      "         US       0.69      0.57      0.63      6021\n",
      "\n",
      "avg / total       0.78      0.79      0.78     19541\n",
      "\n"
     ]
    }
   ],
   "source": [
    "from sklearn.metrics import confusion_matrix, classification_report\n",
    "\n",
    "mat = confusion_matrix(y_test, y_pred)\n",
    "fig, ax = plt.subplots(figsize=(2.5,2.5))\n",
    "ax.matshow(mat, cmap=plt.cm.Blues, alpha=0.3)\n",
    "for i in range(2):\n",
    "    for j in range(2):\n",
    "        ax.text(x=j,y=i,s=mat[i,j], ha='center', va='center')\n",
    "plt.show()\n",
    "print(classification_report(y_test, y_pred))"
   ]
  },
  {
   "cell_type": "markdown",
   "metadata": {},
   "source": [
    "- The performance loss is primarily from failing predicting 'booking'."
   ]
  },
  {
   "cell_type": "markdown",
   "metadata": {},
   "source": [
    "# 3. Random Forest"
   ]
  },
  {
   "cell_type": "code",
   "execution_count": 12,
   "metadata": {
    "collapsed": true
   },
   "outputs": [],
   "source": [
    "X = df[feature_columns].copy()\n",
    "y = df[target].copy()\n",
    "X_train, X_test, y_train, y_test = train_test_split(X,y, test_size=0.3, random_state=0)"
   ]
  },
  {
   "cell_type": "code",
   "execution_count": 13,
   "metadata": {
    "collapsed": false
   },
   "outputs": [],
   "source": [
    "from sklearn.ensemble import RandomForestClassifier\n",
    "\n",
    "clf = RandomForestClassifier(n_estimators=20, max_features=100, max_depth=10, random_state=0)\n",
    "clf.fit(X_train, y_train)\n",
    "y_pred = clf.predict(X_test)"
   ]
  },
  {
   "cell_type": "code",
   "execution_count": 14,
   "metadata": {
    "collapsed": false
   },
   "outputs": [
    {
     "name": "stdout",
     "output_type": "stream",
     "text": [
      "train accuracy: 82.07 %\n",
      "test accuracy: 79.66 %\n"
     ]
    }
   ],
   "source": [
    "print('train accuracy: %.2f %%' %(clf.score(X_train, y_train)*100))\n",
    "print('test accuracy: %.2f %%' %(clf.score(X_test, y_test)*100))"
   ]
  },
  {
   "cell_type": "code",
   "execution_count": 15,
   "metadata": {
    "collapsed": false
   },
   "outputs": [
    {
     "data": {
      "image/png": "[encoded data removed]",
      "text/plain": [
       "<matplotlib.figure.Figure at 0x1da8bd65b00>"
      ]
     },
     "metadata": {},
     "output_type": "display_data"
    },
    {
     "name": "stdout",
     "output_type": "stream",
     "text": [
      "             precision    recall  f1-score   support\n",
      "\n",
      "        NDF       0.84      0.88      0.86     13520\n",
      "         US       0.69      0.62      0.65      6021\n",
      "\n",
      "avg / total       0.79      0.80      0.79     19541\n",
      "\n"
     ]
    }
   ],
   "source": [
    "from sklearn.metrics import confusion_matrix, classification_report\n",
    "\n",
    "mat = confusion_matrix(y_test, y_pred)\n",
    "fig, ax = plt.subplots(figsize=(2.5,2.5))\n",
    "ax.matshow(mat, cmap=plt.cm.Blues, alpha=0.3)\n",
    "for i in range(2):\n",
    "    for j in range(2):\n",
    "        ax.text(x=j,y=i,s=mat[i,j], ha='center', va='center')\n",
    "plt.show()\n",
    "print(classification_report(y_test, y_pred))"
   ]
  },
  {
   "cell_type": "code",
   "execution_count": 16,
   "metadata": {
    "collapsed": false
   },
   "outputs": [
    {
     "name": "stdout",
     "output_type": "stream",
     "text": [
      " 1. ageCat          24.29 %\n",
      " 2. pending         13.01 %\n",
      " 3. missing         8.79 %\n",
      " 4. requested       5.79 %\n",
      " 5. signup_method   5.65 %\n",
      " 6. gender          5.52 %\n",
      " 7. verify          5.04 %\n",
      " 8. create          2.04 %\n",
      " 9. travel_plans_current 1.80 %\n",
      "10. confirm_email   1.55 %\n"
     ]
    }
   ],
   "source": [
    "importances = clf.feature_importances_\n",
    "arg_sort = np.argsort(importances)[::-1]\n",
    "for i in range(10):\n",
    "    idx = arg_sort[i]\n",
    "    print('%2d. %-*s %.2f %%' %(i+1,15, feature_columns[idx],importances[idx]*100))"
   ]
  }
 ],
 "metadata": {
  "anaconda-cloud": {},
  "kernelspec": {
   "display_name": "Python [default]",
   "language": "python",
   "name": "python3"
  },
  "language_info": {
   "codemirror_mode": {
    "name": "ipython",
    "version": 3
   },
   "file_extension": ".py",
   "mimetype": "text/x-python",
   "name": "python",
   "nbconvert_exporter": "python",
   "pygments_lexer": "ipython3",
   "version": "3.5.2"
  }
 },
 "nbformat": 4,
 "nbformat_minor": 1
}

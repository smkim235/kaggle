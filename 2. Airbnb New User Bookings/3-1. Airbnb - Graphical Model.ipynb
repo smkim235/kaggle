{
 "cells": [
  {
   "cell_type": "markdown",
   "metadata": {},
   "source": [
    "# Modeling\n",
    "We use a graphical model to understand the 'sequence' of user actions.\n",
    "- We compute a transition graph for each user.\n",
    "    - nodes: 128 actions\n",
    "    - edges: transition counts for adjacent actions. We normalize for each user.\n",
    "- Training: We build 2 training matrices: average graph for users with bookings and without bookings.\n",
    "- Prediction: We look at a new user's sequence of actions, then compare it to trained 2 matrices. Metric could be 'simple count', 'Euclidean distance', 'correlation', etc. \n",
    "\n",
    "# TODO\n",
    "- Performance is still not great. We haven't got a good metric yet.\n",
    "\n",
    "Reference:\n",
    "- https://pkghosh.wordpress.com/2015/07/06/customer-conversion-prediction-with-markov-chain-classifier/"
   ]
  },
  {
   "cell_type": "code",
   "execution_count": 2,
   "metadata": {
    "collapsed": true
   },
   "outputs": [],
   "source": [
    "import pandas as pd\n",
    "import numpy as np\n",
    "import matplotlib.pyplot as plt\n",
    "import seaborn as sns\n",
    "%matplotlib inline"
   ]
  },
  {
   "cell_type": "code",
   "execution_count": 3,
   "metadata": {
    "collapsed": true
   },
   "outputs": [],
   "source": [
    "df = pd.read_csv('train_users_2.csv')\n",
    "df_s = pd.read_csv('sessions.csv')"
   ]
  },
  {
   "cell_type": "code",
   "execution_count": 4,
   "metadata": {
    "collapsed": true
   },
   "outputs": [],
   "source": [
    "df = df[df.country_destination.isin(['NDF', 'US'])]\n",
    "\n",
    "df.age.fillna(1000, inplace=True)\n",
    "df['ageCat'] = pd.cut(df['age'], \n",
    "                        bins=[0,10,20,30,40,50,60,70,80,90,100,10000])\n",
    "df_s['action_detail'].fillna('-unknown-', inplace=1)\n",
    "df_s['action_type'].fillna('-unknown-', inplace=1)"
   ]
  },
  {
   "cell_type": "code",
   "execution_count": 5,
   "metadata": {
    "collapsed": false
   },
   "outputs": [],
   "source": [
    "ids_with_session = df[df.id.isin(df_s.user_id)].id\n",
    "df = df[df.id.isin(ids_with_session)]\n",
    "df_s = df_s[df_s.user_id.isin(ids_with_session)]"
   ]
  },
  {
   "cell_type": "code",
   "execution_count": 6,
   "metadata": {
    "collapsed": false
   },
   "outputs": [
    {
     "data": {
      "text/plain": [
       "128"
      ]
     },
     "execution_count": 6,
     "metadata": {},
     "output_type": "execute_result"
    }
   ],
   "source": [
    "actions = [x for x in df_s['action_detail'].unique()]\n",
    "hash_action_idx = {col:idx for idx, col in enumerate(actions)}\n",
    "n = len(actions)\n",
    "n"
   ]
  },
  {
   "cell_type": "code",
   "execution_count": 7,
   "metadata": {
    "collapsed": false
   },
   "outputs": [],
   "source": [
    "hash_id_book = {id:dest for id, dest in zip(df.id.values, df.country_destination.values)}"
   ]
  },
  {
   "cell_type": "markdown",
   "metadata": {},
   "source": [
    "# Build average adjacent matrices"
   ]
  },
  {
   "cell_type": "code",
   "execution_count": 8,
   "metadata": {
    "collapsed": false
   },
   "outputs": [
    {
     "name": "stderr",
     "output_type": "stream",
     "text": [
      "0%                          100%\n",
      "[##############################] | ETA: 00:00:00\n",
      "Total time elapsed: 00:00:26\n"
     ]
    }
   ],
   "source": [
    "import pyprind\n",
    "\n",
    "# main adjacent matrices we want to build\n",
    "mat_book = np.zeros((n,n), dtype=np.float32)\n",
    "mat_nobook = np.zeros((n,n), dtype=np.float32)\n",
    "\n",
    "gp = df_s.groupby('user_id')\n",
    "pbar = pyprind.ProgBar(len(gp))\n",
    "for id, df_id in gp:\n",
    "    v = df_id.values\n",
    "    n_action = v.shape[0]\n",
    "    book = hash_id_book[id]\n",
    "    \n",
    "    mat = np.zeros((n,n), dtype=np.float32)\n",
    "    for i in range(1, v.shape[0]):\n",
    "        prev_action = v[i-1,3]\n",
    "        cur_action = v[i,3]\n",
    "        prev_idx = hash_action_idx[prev_action]\n",
    "        cur_idx = hash_action_idx[cur_action]\n",
    "        mat[prev_idx, cur_idx] += (1/n_action)\n",
    "        \n",
    "    if book == 'NDF':\n",
    "        mat_nobook += mat\n",
    "    else:\n",
    "        mat_book += mat\n",
    "    pbar.update()\n",
    "    \n",
    "mat_book = mat_book/df.country_destination.value_counts()['US']*100\n",
    "mat_nobook = mat_nobook/df.country_destination.value_counts()['NDF']*100"
   ]
  },
  {
   "cell_type": "code",
   "execution_count": 9,
   "metadata": {
    "collapsed": false
   },
   "outputs": [
    {
     "data": {
      "text/plain": [
       "array([[ 0.67418551,  0.11415691,  0.5486362 , ...,  0.        ,\n",
       "         0.        ,  0.        ],\n",
       "       [ 0.10299428,  0.01673771,  0.06297693, ...,  0.        ,\n",
       "         0.        ,  0.        ],\n",
       "       [ 0.55753076,  0.05978298,  0.02143256, ...,  0.        ,\n",
       "         0.        ,  0.        ],\n",
       "       ..., \n",
       "       [ 0.        ,  0.        ,  0.        , ...,  0.        ,\n",
       "         0.        ,  0.        ],\n",
       "       [ 0.        ,  0.        ,  0.        , ...,  0.        ,\n",
       "         0.        ,  0.        ],\n",
       "       [ 0.        ,  0.        ,  0.        , ...,  0.        ,\n",
       "         0.        ,  0.        ]], dtype=float32)"
      ]
     },
     "execution_count": 9,
     "metadata": {},
     "output_type": "execute_result"
    }
   ],
   "source": [
    "mat_book"
   ]
  },
  {
   "cell_type": "code",
   "execution_count": 10,
   "metadata": {
    "collapsed": false
   },
   "outputs": [
    {
     "data": {
      "text/plain": [
       "array([[  5.50632298e-01,   1.07522182e-01,   3.83264452e-01, ...,\n",
       "          0.00000000e+00,   0.00000000e+00,   0.00000000e+00],\n",
       "       [  9.62136313e-02,   2.04707794e-02,   6.28685057e-02, ...,\n",
       "          0.00000000e+00,   0.00000000e+00,   0.00000000e+00],\n",
       "       [  3.86171341e-01,   6.79408908e-02,   1.43057769e-02, ...,\n",
       "          4.82652067e-05,   0.00000000e+00,   0.00000000e+00],\n",
       "       ..., \n",
       "       [  4.62541539e-05,   0.00000000e+00,   0.00000000e+00, ...,\n",
       "          2.07495268e-05,   0.00000000e+00,   0.00000000e+00],\n",
       "       [  0.00000000e+00,   0.00000000e+00,   0.00000000e+00, ...,\n",
       "          0.00000000e+00,   7.23191943e-06,   0.00000000e+00],\n",
       "       [  0.00000000e+00,   0.00000000e+00,   0.00000000e+00, ...,\n",
       "          0.00000000e+00,   0.00000000e+00,   2.96026592e-05]], dtype=float32)"
      ]
     },
     "execution_count": 10,
     "metadata": {},
     "output_type": "execute_result"
    }
   ],
   "source": [
    "mat_nobook"
   ]
  },
  {
   "cell_type": "markdown",
   "metadata": {},
   "source": [
    "# Train accuracy"
   ]
  },
  {
   "cell_type": "code",
   "execution_count": 11,
   "metadata": {
    "collapsed": true
   },
   "outputs": [],
   "source": [
    "def simple_count_score(df_user):\n",
    "    v = df_user.values\n",
    "    n_action = v.shape[0]\n",
    "    \n",
    "    book_score = 0\n",
    "    for i in range(1, v.shape[0]):\n",
    "        prev_action = v[i-1,3]\n",
    "        cur_action = v[i,3]\n",
    "        prev_idx = hash_action_idx[prev_action]\n",
    "        cur_idx = hash_action_idx[cur_action]\n",
    "        \n",
    "        m1 = mat_book[prev_idx, cur_idx]\n",
    "        m2 = mat_nobook[prev_idx, cur_idx]\n",
    "        \n",
    "        if m1 > m2:\n",
    "            book_score += 1\n",
    "        else:\n",
    "            book_score -= 1\n",
    "    return book_score/n_action"
   ]
  },
  {
   "cell_type": "code",
   "execution_count": 12,
   "metadata": {
    "collapsed": false
   },
   "outputs": [
    {
     "name": "stderr",
     "output_type": "stream",
     "text": [
      "0%                          100%\n",
      "[##############################] | ETA: 00:00:00\n",
      "Total time elapsed: 00:00:17\n"
     ]
    }
   ],
   "source": [
    "import pyprind\n",
    "\n",
    "gp = df_s.groupby('user_id')\n",
    "pbar = pyprind.ProgBar(len(gp))\n",
    "\n",
    "scores = []\n",
    "for id, df_user in gp:\n",
    "    book = hash_id_book[id]\n",
    "    book_score = simple_count_score(df_user)\n",
    "    scores.append((book,book_score))\n",
    "\n",
    "    pbar.update()    "
   ]
  },
  {
   "cell_type": "code",
   "execution_count": 16,
   "metadata": {
    "collapsed": false
   },
   "outputs": [],
   "source": [
    "df_book_score = pd.DataFrame(scores, columns=['book', 'book_score'])"
   ]
  },
  {
   "cell_type": "code",
   "execution_count": 18,
   "metadata": {
    "collapsed": false
   },
   "outputs": [
    {
     "data": {
      "text/html": [
       "<div>\n",
       "<table border=\"1\" class=\"dataframe\">\n",
       "  <thead>\n",
       "    <tr style=\"text-align: right;\">\n",
       "      <th></th>\n",
       "      <th>book</th>\n",
       "      <th>book_score</th>\n",
       "    </tr>\n",
       "  </thead>\n",
       "  <tbody>\n",
       "    <tr>\n",
       "      <th>0</th>\n",
       "      <td>US</td>\n",
       "      <td>0.375000</td>\n",
       "    </tr>\n",
       "    <tr>\n",
       "      <th>1</th>\n",
       "      <td>NDF</td>\n",
       "      <td>-0.900000</td>\n",
       "    </tr>\n",
       "    <tr>\n",
       "      <th>2</th>\n",
       "      <td>NDF</td>\n",
       "      <td>-0.967742</td>\n",
       "    </tr>\n",
       "    <tr>\n",
       "      <th>3</th>\n",
       "      <td>US</td>\n",
       "      <td>-0.286439</td>\n",
       "    </tr>\n",
       "    <tr>\n",
       "      <th>4</th>\n",
       "      <td>US</td>\n",
       "      <td>-0.515337</td>\n",
       "    </tr>\n",
       "  </tbody>\n",
       "</table>\n",
       "</div>"
      ],
      "text/plain": [
       "  book  book_score\n",
       "0   US    0.375000\n",
       "1  NDF   -0.900000\n",
       "2  NDF   -0.967742\n",
       "3   US   -0.286439\n",
       "4   US   -0.515337"
      ]
     },
     "execution_count": 18,
     "metadata": {},
     "output_type": "execute_result"
    }
   ],
   "source": [
    "df_book_score.head()"
   ]
  },
  {
   "cell_type": "code",
   "execution_count": 37,
   "metadata": {
    "collapsed": true
   },
   "outputs": [],
   "source": [
    "def map_book(s):\n",
    "    if s == 'US':\n",
    "        return 1\n",
    "    else:\n",
    "        return 0\n",
    "    \n",
    "def map_book_score(t):\n",
    "    if t >= 0.1:\n",
    "        return 1\n",
    "    else:\n",
    "        return 0\n",
    "    \n",
    "df_book_score['y_true'] = df_book_score['book'].apply(map_book)\n",
    "df_book_score['y_pred'] = df_book_score['book_score'].apply(map_book_score)"
   ]
  },
  {
   "cell_type": "code",
   "execution_count": 38,
   "metadata": {
    "collapsed": false
   },
   "outputs": [
    {
     "data": {
      "text/html": [
       "<div>\n",
       "<table border=\"1\" class=\"dataframe\">\n",
       "  <thead>\n",
       "    <tr style=\"text-align: right;\">\n",
       "      <th></th>\n",
       "      <th>book</th>\n",
       "      <th>book_score</th>\n",
       "      <th>y_true</th>\n",
       "      <th>y_pred</th>\n",
       "    </tr>\n",
       "  </thead>\n",
       "  <tbody>\n",
       "    <tr>\n",
       "      <th>0</th>\n",
       "      <td>US</td>\n",
       "      <td>0.375000</td>\n",
       "      <td>1</td>\n",
       "      <td>1</td>\n",
       "    </tr>\n",
       "    <tr>\n",
       "      <th>1</th>\n",
       "      <td>NDF</td>\n",
       "      <td>-0.900000</td>\n",
       "      <td>0</td>\n",
       "      <td>0</td>\n",
       "    </tr>\n",
       "    <tr>\n",
       "      <th>2</th>\n",
       "      <td>NDF</td>\n",
       "      <td>-0.967742</td>\n",
       "      <td>0</td>\n",
       "      <td>0</td>\n",
       "    </tr>\n",
       "    <tr>\n",
       "      <th>3</th>\n",
       "      <td>US</td>\n",
       "      <td>-0.286439</td>\n",
       "      <td>1</td>\n",
       "      <td>0</td>\n",
       "    </tr>\n",
       "    <tr>\n",
       "      <th>4</th>\n",
       "      <td>US</td>\n",
       "      <td>-0.515337</td>\n",
       "      <td>1</td>\n",
       "      <td>0</td>\n",
       "    </tr>\n",
       "  </tbody>\n",
       "</table>\n",
       "</div>"
      ],
      "text/plain": [
       "  book  book_score  y_true  y_pred\n",
       "0   US    0.375000       1       1\n",
       "1  NDF   -0.900000       0       0\n",
       "2  NDF   -0.967742       0       0\n",
       "3   US   -0.286439       1       0\n",
       "4   US   -0.515337       1       0"
      ]
     },
     "execution_count": 38,
     "metadata": {},
     "output_type": "execute_result"
    }
   ],
   "source": [
    "df_book_score.head()"
   ]
  },
  {
   "cell_type": "code",
   "execution_count": 39,
   "metadata": {
    "collapsed": false
   },
   "outputs": [],
   "source": [
    "y_true = df_book_score.y_true.values\n",
    "y_pred = df_book_score.y_pred.values"
   ]
  },
  {
   "cell_type": "code",
   "execution_count": 40,
   "metadata": {
    "collapsed": false
   },
   "outputs": [
    {
     "name": "stdout",
     "output_type": "stream",
     "text": [
      "accuracy: 62.66 %\n",
      "[[27971 17070]\n",
      " [ 7255 12840]]\n",
      "             precision    recall  f1-score   support\n",
      "\n",
      "          0       0.79      0.62      0.70     45041\n",
      "          1       0.43      0.64      0.51     20095\n",
      "\n",
      "avg / total       0.68      0.63      0.64     65136\n",
      "\n"
     ]
    }
   ],
   "source": [
    "from sklearn.metrics import accuracy_score, confusion_matrix, classification_report\n",
    "\n",
    "print('accuracy: %.2f %%' %(accuracy_score(y_true, y_pred)*100))\n",
    "print(confusion_matrix(y_true, y_pred))\n",
    "print(classification_report(y_true, y_pred))"
   ]
  }
 ],
 "metadata": {
  "anaconda-cloud": {},
  "kernelspec": {
   "display_name": "Python [default]",
   "language": "python",
   "name": "python3"
  },
  "language_info": {
   "codemirror_mode": {
    "name": "ipython",
    "version": 3
   },
   "file_extension": ".py",
   "mimetype": "text/x-python",
   "name": "python",
   "nbconvert_exporter": "python",
   "pygments_lexer": "ipython3",
   "version": "3.5.2"
  }
 },
 "nbformat": 4,
 "nbformat_minor": 1
}

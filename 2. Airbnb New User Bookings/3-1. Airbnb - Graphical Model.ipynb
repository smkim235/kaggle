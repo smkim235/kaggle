{
 "cells": [
  {
   "cell_type": "markdown",
   "metadata": {},
   "source": [
    "# Modeling\n",
    "\n",
    "We use a graphical model to understand the 'sequence' of user actions. We compute a transition graph for each user as follows:\n",
    "    - nodes: 128 actions\n",
    "    - edges: transition counts for adjacent actions. We normalize for each user.\n",
    "    \n",
    "1. Naive Model. \n",
    "    - Training: We build 2 training matrices: average graph for users with bookings and without bookings.\n",
    "    - Prediction: We look at a new user's sequence of actions, then compare it to trained 2 matrices. Metric could be 'simple count', 'Euclidean distance', 'correlation', etc. \n",
    "    - Reference: https://pkghosh.wordpress.com/2015/07/06/customer-conversion-prediction-with-markov-chain-classifier/\n",
    "2. Use matricies as features\n",
    "    - For each user, we use a unrolled matrix as a feature vector.\n",
    "    - Run logistic regression.\n",
    "\n",
    "# TODO\n",
    "- Performance is still not great yet. We need to tune the model and find a good metric. "
   ]
  },
  {
   "cell_type": "code",
   "execution_count": 1,
   "metadata": {
    "collapsed": true
   },
   "outputs": [],
   "source": [
    "import pandas as pd\n",
    "import numpy as np\n",
    "import matplotlib.pyplot as plt\n",
    "import seaborn as sns\n",
    "%matplotlib inline"
   ]
  },
  {
   "cell_type": "code",
   "execution_count": 2,
   "metadata": {
    "collapsed": true
   },
   "outputs": [],
   "source": [
    "df = pd.read_csv('train_users_2.csv')\n",
    "df_s = pd.read_csv('sessions.csv')"
   ]
  },
  {
   "cell_type": "code",
   "execution_count": 3,
   "metadata": {
    "collapsed": true
   },
   "outputs": [],
   "source": [
    "df = df[df.country_destination.isin(['NDF', 'US'])]\n",
    "\n",
    "df.age.fillna(1000, inplace=True)\n",
    "df['ageCat'] = pd.cut(df['age'], \n",
    "                        bins=[0,10,20,30,40,50,60,70,80,90,100,10000])\n",
    "df_s['action_detail'].fillna('-unknown-', inplace=1)\n",
    "df_s['action_type'].fillna('-unknown-', inplace=1)"
   ]
  },
  {
   "cell_type": "code",
   "execution_count": 4,
   "metadata": {
    "collapsed": false
   },
   "outputs": [],
   "source": [
    "ids_with_session = df[df.id.isin(df_s.user_id)].id.sample(10000, random_state=0)\n",
    "df = df[df.id.isin(ids_with_session)]\n",
    "df_s = df_s[df_s.user_id.isin(ids_with_session)]"
   ]
  },
  {
   "cell_type": "code",
   "execution_count": 5,
   "metadata": {
    "collapsed": false
   },
   "outputs": [
    {
     "data": {
      "text/plain": [
       "(10000, 17)"
      ]
     },
     "execution_count": 5,
     "metadata": {},
     "output_type": "execute_result"
    }
   ],
   "source": [
    "df.shape"
   ]
  },
  {
   "cell_type": "code",
   "execution_count": 6,
   "metadata": {
    "collapsed": false
   },
   "outputs": [
    {
     "data": {
      "text/plain": [
       "(733507, 6)"
      ]
     },
     "execution_count": 6,
     "metadata": {},
     "output_type": "execute_result"
    }
   ],
   "source": [
    "df_s.shape"
   ]
  },
  {
   "cell_type": "code",
   "execution_count": 7,
   "metadata": {
    "collapsed": false
   },
   "outputs": [
    {
     "data": {
      "text/plain": [
       "122"
      ]
     },
     "execution_count": 7,
     "metadata": {},
     "output_type": "execute_result"
    }
   ],
   "source": [
    "actions = [x for x in df_s['action_detail'].unique()]\n",
    "hash_action_idx = {col:idx for idx, col in enumerate(actions)}\n",
    "n = len(actions)\n",
    "n"
   ]
  },
  {
   "cell_type": "code",
   "execution_count": 8,
   "metadata": {
    "collapsed": false
   },
   "outputs": [],
   "source": [
    "hash_id_book = {id:dest for id, dest in zip(df.id.values, df.country_destination.values)}"
   ]
  },
  {
   "cell_type": "markdown",
   "metadata": {},
   "source": [
    "# 1. Model 1: build average adjacent matrices"
   ]
  },
  {
   "cell_type": "code",
   "execution_count": 9,
   "metadata": {
    "collapsed": false
   },
   "outputs": [
    {
     "name": "stderr",
     "output_type": "stream",
     "text": [
      "0%                          100%\n",
      "[##############################] | ETA: 00:00:00\n",
      "Total time elapsed: 00:00:04\n"
     ]
    }
   ],
   "source": [
    "import pyprind\n",
    "\n",
    "# main adjacent matrices we want to build\n",
    "mat_book = np.zeros((n,n), dtype=np.float32)\n",
    "mat_nobook = np.zeros((n,n), dtype=np.float32)\n",
    "\n",
    "gp = df_s.groupby('user_id')\n",
    "pbar = pyprind.ProgBar(len(gp))\n",
    "for id, df_id in gp:\n",
    "    v = df_id.values\n",
    "    n_action = v.shape[0]\n",
    "    book = hash_id_book[id]\n",
    "    \n",
    "    mat = np.zeros((n,n), dtype=np.float32)\n",
    "    for i in range(1, v.shape[0]):\n",
    "        prev_action = v[i-1,3]\n",
    "        cur_action = v[i,3]\n",
    "        prev_idx = hash_action_idx[prev_action]\n",
    "        cur_idx = hash_action_idx[cur_action]\n",
    "        mat[prev_idx, cur_idx] += (1/n_action)\n",
    "        \n",
    "    if book == 'NDF':\n",
    "        mat_nobook += mat\n",
    "    else:\n",
    "        mat_book += mat\n",
    "    pbar.update()\n",
    "    \n",
    "mat_book = mat_book/df.country_destination.value_counts()['US']*100\n",
    "mat_nobook = mat_nobook/df.country_destination.value_counts()['NDF']*100"
   ]
  },
  {
   "cell_type": "code",
   "execution_count": 10,
   "metadata": {
    "collapsed": false
   },
   "outputs": [
    {
     "data": {
      "text/plain": [
       "array([[  2.46598329e-02,   1.62640512e-01,   8.55253264e-02, ...,\n",
       "          0.00000000e+00,   0.00000000e+00,   0.00000000e+00],\n",
       "       [  1.93583071e-01,   2.52192646e-01,   6.72953367e-01, ...,\n",
       "          5.44892740e-04,   0.00000000e+00,   0.00000000e+00],\n",
       "       [  3.92134152e-02,   7.62595117e-01,   8.78876075e-03, ...,\n",
       "          4.10778826e-04,   0.00000000e+00,   0.00000000e+00],\n",
       "       ..., \n",
       "       [  0.00000000e+00,   2.12449441e-03,   0.00000000e+00, ...,\n",
       "          9.37031640e-04,   0.00000000e+00,   0.00000000e+00],\n",
       "       [  0.00000000e+00,   0.00000000e+00,   0.00000000e+00, ...,\n",
       "          0.00000000e+00,   0.00000000e+00,   0.00000000e+00],\n",
       "       [  0.00000000e+00,   0.00000000e+00,   0.00000000e+00, ...,\n",
       "          0.00000000e+00,   0.00000000e+00,   0.00000000e+00]], dtype=float32)"
      ]
     },
     "execution_count": 10,
     "metadata": {},
     "output_type": "execute_result"
    }
   ],
   "source": [
    "mat_book"
   ]
  },
  {
   "cell_type": "code",
   "execution_count": 11,
   "metadata": {
    "collapsed": false
   },
   "outputs": [
    {
     "data": {
      "text/plain": [
       "array([[  1.14899604e-02,   1.63872927e-01,   7.27299601e-02, ...,\n",
       "          7.98556197e-04,   0.00000000e+00,   0.00000000e+00],\n",
       "       [  1.45152718e-01,   2.74003327e-01,   8.23160529e-01, ...,\n",
       "          1.16361049e-03,   0.00000000e+00,   0.00000000e+00],\n",
       "       [  5.02701141e-02,   9.32789385e-01,   1.88677721e-02, ...,\n",
       "          3.59350303e-03,   0.00000000e+00,   0.00000000e+00],\n",
       "       ..., \n",
       "       [  7.56526948e-04,   7.98556197e-04,   1.43740117e-03, ...,\n",
       "          5.89104253e-04,   0.00000000e+00,   0.00000000e+00],\n",
       "       [  0.00000000e+00,   0.00000000e+00,   0.00000000e+00, ...,\n",
       "          0.00000000e+00,   4.68208855e-05,   0.00000000e+00],\n",
       "       [  0.00000000e+00,   0.00000000e+00,   0.00000000e+00, ...,\n",
       "          0.00000000e+00,   0.00000000e+00,   1.91653497e-04]], dtype=float32)"
      ]
     },
     "execution_count": 11,
     "metadata": {},
     "output_type": "execute_result"
    }
   ],
   "source": [
    "mat_nobook"
   ]
  },
  {
   "cell_type": "markdown",
   "metadata": {},
   "source": [
    "## train accuracy with simple_count score"
   ]
  },
  {
   "cell_type": "code",
   "execution_count": 12,
   "metadata": {
    "collapsed": true
   },
   "outputs": [],
   "source": [
    "def simple_count_score(df_user):\n",
    "    v = df_user.values\n",
    "    n_action = v.shape[0]\n",
    "    \n",
    "    book_score = 0\n",
    "    for i in range(1, v.shape[0]):\n",
    "        prev_action = v[i-1,3]\n",
    "        cur_action = v[i,3]\n",
    "        prev_idx = hash_action_idx[prev_action]\n",
    "        cur_idx = hash_action_idx[cur_action]\n",
    "        \n",
    "        m1 = mat_book[prev_idx, cur_idx]\n",
    "        m2 = mat_nobook[prev_idx, cur_idx]\n",
    "        \n",
    "        if m1 > m2:\n",
    "            book_score += 1\n",
    "        else:\n",
    "            book_score -= 1\n",
    "    return book_score/n_action"
   ]
  },
  {
   "cell_type": "code",
   "execution_count": 13,
   "metadata": {
    "collapsed": false
   },
   "outputs": [
    {
     "name": "stderr",
     "output_type": "stream",
     "text": [
      "0%                          100%\n",
      "[##############################] | ETA: 00:00:00\n",
      "Total time elapsed: 00:00:03\n"
     ]
    }
   ],
   "source": [
    "import pyprind\n",
    "\n",
    "gp = df_s.groupby('user_id')\n",
    "pbar = pyprind.ProgBar(len(gp))\n",
    "\n",
    "scores = []\n",
    "for id, df_user in gp:\n",
    "    book = hash_id_book[id]\n",
    "    book_score = simple_count_score(df_user)\n",
    "    scores.append((book,book_score))\n",
    "\n",
    "    pbar.update()    "
   ]
  },
  {
   "cell_type": "code",
   "execution_count": 14,
   "metadata": {
    "collapsed": false
   },
   "outputs": [],
   "source": [
    "df_book_score = pd.DataFrame(scores, columns=['book', 'book_score'])"
   ]
  },
  {
   "cell_type": "code",
   "execution_count": 15,
   "metadata": {
    "collapsed": false
   },
   "outputs": [
    {
     "data": {
      "text/html": [
       "<div>\n",
       "<table border=\"1\" class=\"dataframe\">\n",
       "  <thead>\n",
       "    <tr style=\"text-align: right;\">\n",
       "      <th></th>\n",
       "      <th>book</th>\n",
       "      <th>book_score</th>\n",
       "    </tr>\n",
       "  </thead>\n",
       "  <tbody>\n",
       "    <tr>\n",
       "      <th>0</th>\n",
       "      <td>NDF</td>\n",
       "      <td>-0.967742</td>\n",
       "    </tr>\n",
       "    <tr>\n",
       "      <th>1</th>\n",
       "      <td>NDF</td>\n",
       "      <td>0.338983</td>\n",
       "    </tr>\n",
       "    <tr>\n",
       "      <th>2</th>\n",
       "      <td>NDF</td>\n",
       "      <td>0.346154</td>\n",
       "    </tr>\n",
       "    <tr>\n",
       "      <th>3</th>\n",
       "      <td>US</td>\n",
       "      <td>0.263889</td>\n",
       "    </tr>\n",
       "    <tr>\n",
       "      <th>4</th>\n",
       "      <td>US</td>\n",
       "      <td>-0.062500</td>\n",
       "    </tr>\n",
       "  </tbody>\n",
       "</table>\n",
       "</div>"
      ],
      "text/plain": [
       "  book  book_score\n",
       "0  NDF   -0.967742\n",
       "1  NDF    0.338983\n",
       "2  NDF    0.346154\n",
       "3   US    0.263889\n",
       "4   US   -0.062500"
      ]
     },
     "execution_count": 15,
     "metadata": {},
     "output_type": "execute_result"
    }
   ],
   "source": [
    "df_book_score.head()"
   ]
  },
  {
   "cell_type": "code",
   "execution_count": 16,
   "metadata": {
    "collapsed": true
   },
   "outputs": [],
   "source": [
    "def map_book(s):\n",
    "    if s == 'US':\n",
    "        return 1\n",
    "    else:\n",
    "        return 0\n",
    "    \n",
    "def map_book_score(t):\n",
    "    if t >= 0.1:\n",
    "        return 1\n",
    "    else:\n",
    "        return 0\n",
    "    \n",
    "df_book_score['y_true'] = df_book_score['book'].apply(map_book)\n",
    "df_book_score['y_pred'] = df_book_score['book_score'].apply(map_book_score)"
   ]
  },
  {
   "cell_type": "code",
   "execution_count": 17,
   "metadata": {
    "collapsed": false
   },
   "outputs": [
    {
     "data": {
      "text/html": [
       "<div>\n",
       "<table border=\"1\" class=\"dataframe\">\n",
       "  <thead>\n",
       "    <tr style=\"text-align: right;\">\n",
       "      <th></th>\n",
       "      <th>book</th>\n",
       "      <th>book_score</th>\n",
       "      <th>y_true</th>\n",
       "      <th>y_pred</th>\n",
       "    </tr>\n",
       "  </thead>\n",
       "  <tbody>\n",
       "    <tr>\n",
       "      <th>0</th>\n",
       "      <td>NDF</td>\n",
       "      <td>-0.967742</td>\n",
       "      <td>0</td>\n",
       "      <td>0</td>\n",
       "    </tr>\n",
       "    <tr>\n",
       "      <th>1</th>\n",
       "      <td>NDF</td>\n",
       "      <td>0.338983</td>\n",
       "      <td>0</td>\n",
       "      <td>1</td>\n",
       "    </tr>\n",
       "    <tr>\n",
       "      <th>2</th>\n",
       "      <td>NDF</td>\n",
       "      <td>0.346154</td>\n",
       "      <td>0</td>\n",
       "      <td>1</td>\n",
       "    </tr>\n",
       "    <tr>\n",
       "      <th>3</th>\n",
       "      <td>US</td>\n",
       "      <td>0.263889</td>\n",
       "      <td>1</td>\n",
       "      <td>1</td>\n",
       "    </tr>\n",
       "    <tr>\n",
       "      <th>4</th>\n",
       "      <td>US</td>\n",
       "      <td>-0.062500</td>\n",
       "      <td>1</td>\n",
       "      <td>0</td>\n",
       "    </tr>\n",
       "  </tbody>\n",
       "</table>\n",
       "</div>"
      ],
      "text/plain": [
       "  book  book_score  y_true  y_pred\n",
       "0  NDF   -0.967742       0       0\n",
       "1  NDF    0.338983       0       1\n",
       "2  NDF    0.346154       0       1\n",
       "3   US    0.263889       1       1\n",
       "4   US   -0.062500       1       0"
      ]
     },
     "execution_count": 17,
     "metadata": {},
     "output_type": "execute_result"
    }
   ],
   "source": [
    "df_book_score.head()"
   ]
  },
  {
   "cell_type": "code",
   "execution_count": 18,
   "metadata": {
    "collapsed": false
   },
   "outputs": [],
   "source": [
    "y_true = df_book_score.y_true.values\n",
    "y_pred = df_book_score.y_pred.values"
   ]
  },
  {
   "cell_type": "code",
   "execution_count": 19,
   "metadata": {
    "collapsed": false
   },
   "outputs": [
    {
     "name": "stdout",
     "output_type": "stream",
     "text": [
      "accuracy: 68.12 %\n",
      "[[5236 1721]\n",
      " [1467 1576]]\n",
      "             precision    recall  f1-score   support\n",
      "\n",
      "          0       0.78      0.75      0.77      6957\n",
      "          1       0.48      0.52      0.50      3043\n",
      "\n",
      "avg / total       0.69      0.68      0.68     10000\n",
      "\n"
     ]
    }
   ],
   "source": [
    "from sklearn.metrics import accuracy_score, confusion_matrix, classification_report\n",
    "\n",
    "print('accuracy: %.2f %%' %(accuracy_score(y_true, y_pred)*100))\n",
    "print(confusion_matrix(y_true, y_pred))\n",
    "print(classification_report(y_true, y_pred))"
   ]
  },
  {
   "cell_type": "markdown",
   "metadata": {},
   "source": [
    "# 2. Use matrices as features."
   ]
  },
  {
   "cell_type": "code",
   "execution_count": 20,
   "metadata": {
    "collapsed": false
   },
   "outputs": [
    {
     "name": "stderr",
     "output_type": "stream",
     "text": [
      "0%                          100%\n",
      "[##############################] | ETA: 00:00:00\n",
      "Total time elapsed: 00:00:05\n"
     ]
    }
   ],
   "source": [
    "import pyprind\n",
    "\n",
    "vector_list = [] # feature vector list\n",
    "book_list = [] # target list\n",
    "\n",
    "gp = df_s.groupby('user_id')\n",
    "pbar = pyprind.ProgBar(len(gp))\n",
    "for id, df_id in gp:\n",
    "    v = df_id.values\n",
    "    n_action = v.shape[0]\n",
    "    book = hash_id_book[id]\n",
    "    \n",
    "    mat = np.zeros((n,n), dtype=np.float32)\n",
    "    for i in range(1, v.shape[0]):\n",
    "        prev_action = v[i-1,3]\n",
    "        cur_action = v[i,3]\n",
    "        prev_idx = hash_action_idx[prev_action]\n",
    "        cur_idx = hash_action_idx[cur_action]\n",
    "        mat[prev_idx, cur_idx] += (1/n_action)\n",
    "        \n",
    "    v = mat.ravel()\n",
    "    \n",
    "    vector_list.append(v)\n",
    "    book_list.append(book)\n",
    "    \n",
    "    pbar.update()"
   ]
  },
  {
   "cell_type": "code",
   "execution_count": 21,
   "metadata": {
    "collapsed": true
   },
   "outputs": [],
   "source": [
    "X = np.array(vector_list)\n",
    "y = book_list"
   ]
  },
  {
   "cell_type": "code",
   "execution_count": 22,
   "metadata": {
    "collapsed": false
   },
   "outputs": [
    {
     "data": {
      "text/plain": [
       "(10000, 14884)"
      ]
     },
     "execution_count": 22,
     "metadata": {},
     "output_type": "execute_result"
    }
   ],
   "source": [
    "X.shape"
   ]
  },
  {
   "cell_type": "code",
   "execution_count": 23,
   "metadata": {
    "collapsed": false
   },
   "outputs": [],
   "source": [
    "from sklearn.model_selection import train_test_split\n",
    "X_train, X_test, y_train, y_test = train_test_split(X,y, test_size=0.3, random_state=0)"
   ]
  },
  {
   "cell_type": "code",
   "execution_count": 24,
   "metadata": {
    "collapsed": false
   },
   "outputs": [],
   "source": [
    "from sklearn.preprocessing import StandardScaler\n",
    "\n",
    "# standarize using train data\n",
    "std = StandardScaler()\n",
    "X_train = std.fit_transform(X_train)\n",
    "X_test = std.transform(X_test)"
   ]
  },
  {
   "cell_type": "code",
   "execution_count": 25,
   "metadata": {
    "collapsed": false
   },
   "outputs": [],
   "source": [
    "from sklearn.linear_model import LogisticRegression\n",
    "\n",
    "clf = LogisticRegression()\n",
    "clf.fit(X_train, y_train)\n",
    "y_pred = clf.predict(X_test)"
   ]
  },
  {
   "cell_type": "code",
   "execution_count": 26,
   "metadata": {
    "collapsed": false
   },
   "outputs": [
    {
     "name": "stdout",
     "output_type": "stream",
     "text": [
      "train accuracy: 88.33 %\n",
      "test accuracy: 65.33 %\n"
     ]
    }
   ],
   "source": [
    "print('train accuracy: %.2f %%' %(clf.score(X_train, y_train)*100))\n",
    "print('test accuracy: %.2f %%' %(clf.score(X_test, y_test)*100))"
   ]
  },
  {
   "cell_type": "code",
   "execution_count": 27,
   "metadata": {
    "collapsed": false
   },
   "outputs": [
    {
     "data": {
      "image/png": "[encoded data removed]",
      "text/plain": [
       "<matplotlib.figure.Figure at 0x21f9db4e4a8>"
      ]
     },
     "metadata": {},
     "output_type": "display_data"
    },
    {
     "name": "stdout",
     "output_type": "stream",
     "text": [
      "             precision    recall  f1-score   support\n",
      "\n",
      "        NDF       0.73      0.79      0.76      2090\n",
      "         US       0.41      0.35      0.38       910\n",
      "\n",
      "avg / total       0.64      0.65      0.64      3000\n",
      "\n"
     ]
    }
   ],
   "source": [
    "from sklearn.metrics import confusion_matrix, classification_report\n",
    "\n",
    "mat = confusion_matrix(y_test, y_pred)\n",
    "fig, ax = plt.subplots(figsize=(2.5,2.5))\n",
    "ax.matshow(mat, cmap=plt.cm.Blues, alpha=0.3)\n",
    "for i in range(2):\n",
    "    for j in range(2):\n",
    "        ax.text(x=j,y=i,s=mat[i,j], ha='center', va='center')\n",
    "plt.show()\n",
    "print(classification_report(y_test, y_pred))"
   ]
  }
 ],
 "metadata": {
  "anaconda-cloud": {},
  "kernelspec": {
   "display_name": "Python [default]",
   "language": "python",
   "name": "python3"
  },
  "language_info": {
   "codemirror_mode": {
    "name": "ipython",
    "version": 3
   },
   "file_extension": ".py",
   "mimetype": "text/x-python",
   "name": "python",
   "nbconvert_exporter": "python",
   "pygments_lexer": "ipython3",
   "version": "3.5.2"
  }
 },
 "nbformat": 4,
 "nbformat_minor": 1
}

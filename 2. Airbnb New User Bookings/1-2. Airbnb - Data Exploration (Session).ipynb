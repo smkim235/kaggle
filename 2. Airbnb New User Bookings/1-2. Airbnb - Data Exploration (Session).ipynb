{
 "cells": [
  {
   "cell_type": "markdown",
   "metadata": {},
   "source": [
    "# Explore Session Data"
   ]
  },
  {
   "cell_type": "markdown",
   "metadata": {},
   "source": [
    "## Variable Description \n",
    "- user_id: to be joined with the column 'id' in users table\n",
    "- action_type: depth 1 action description\n",
    "- action_detail: depth 2 action description\n",
    "- action: depth 3 action description\n",
    "- device_type\n",
    "- secs_elapsed"
   ]
  },
  {
   "cell_type": "markdown",
   "metadata": {},
   "source": [
    "## Summary of the exploratory analysis\n",
    "\n",
    "Basic:\n",
    "- 10M data of users for 2014.\n",
    "- Jan-Jun: train users, Jul-Sep: test users. \n",
    "- each row is a single action by a user, with 3 hierarchical descriptions of action (action type - action detail - action)\n",
    "  with seconds spent. \n",
    "- 11 action types, 156 action details, and 360 actions. \n",
    "- 65K out of 210K train users have session data. \n",
    "- Almost all(99.3%) of 62K test users have session data. \n",
    "- ~10% of data have missing information.  \n",
    "\n",
    "Observation:\n",
    "- User actions are unbalanced in terms of number of actions and total seconds.   \n",
    "- There is a general trend that the booking rate increases as the number of actions, total seconds, and average sec per actions increase. \n",
    "\n",
    "Clustering:\n",
    "- We expect that users is grouped by 'guest', 'host', 'both', 'no action yet'.\n",
    "- We apply k-Means clustering with n=4. \n",
    "- We need to investigate more to get better insight"
   ]
  },
  {
   "cell_type": "code",
   "execution_count": 1,
   "metadata": {
    "collapsed": true
   },
   "outputs": [],
   "source": [
    "import pandas as pd\n",
    "import numpy as np\n",
    "import matplotlib.pyplot as plt\n",
    "import seaborn as sns\n",
    "%matplotlib inline"
   ]
  },
  {
   "cell_type": "code",
   "execution_count": 2,
   "metadata": {
    "collapsed": true
   },
   "outputs": [],
   "source": [
    "df_s = pd.read_csv('sessions.csv')"
   ]
  },
  {
   "cell_type": "code",
   "execution_count": 3,
   "metadata": {
    "collapsed": false
   },
   "outputs": [
    {
     "data": {
      "text/plain": [
       "(10567737, 6)"
      ]
     },
     "execution_count": 3,
     "metadata": {},
     "output_type": "execute_result"
    }
   ],
   "source": [
    "df_s.shape"
   ]
  },
  {
   "cell_type": "code",
   "execution_count": 4,
   "metadata": {
    "collapsed": false
   },
   "outputs": [
    {
     "data": {
      "text/html": [
       "<div>\n",
       "<table border=\"1\" class=\"dataframe\">\n",
       "  <thead>\n",
       "    <tr style=\"text-align: right;\">\n",
       "      <th></th>\n",
       "      <th>user_id</th>\n",
       "      <th>action</th>\n",
       "      <th>action_type</th>\n",
       "      <th>action_detail</th>\n",
       "      <th>device_type</th>\n",
       "      <th>secs_elapsed</th>\n",
       "    </tr>\n",
       "  </thead>\n",
       "  <tbody>\n",
       "    <tr>\n",
       "      <th>0</th>\n",
       "      <td>d1mm9tcy42</td>\n",
       "      <td>lookup</td>\n",
       "      <td>NaN</td>\n",
       "      <td>NaN</td>\n",
       "      <td>Windows Desktop</td>\n",
       "      <td>319.0</td>\n",
       "    </tr>\n",
       "    <tr>\n",
       "      <th>1</th>\n",
       "      <td>d1mm9tcy42</td>\n",
       "      <td>search_results</td>\n",
       "      <td>click</td>\n",
       "      <td>view_search_results</td>\n",
       "      <td>Windows Desktop</td>\n",
       "      <td>67753.0</td>\n",
       "    </tr>\n",
       "    <tr>\n",
       "      <th>2</th>\n",
       "      <td>d1mm9tcy42</td>\n",
       "      <td>lookup</td>\n",
       "      <td>NaN</td>\n",
       "      <td>NaN</td>\n",
       "      <td>Windows Desktop</td>\n",
       "      <td>301.0</td>\n",
       "    </tr>\n",
       "    <tr>\n",
       "      <th>3</th>\n",
       "      <td>d1mm9tcy42</td>\n",
       "      <td>search_results</td>\n",
       "      <td>click</td>\n",
       "      <td>view_search_results</td>\n",
       "      <td>Windows Desktop</td>\n",
       "      <td>22141.0</td>\n",
       "    </tr>\n",
       "    <tr>\n",
       "      <th>4</th>\n",
       "      <td>d1mm9tcy42</td>\n",
       "      <td>lookup</td>\n",
       "      <td>NaN</td>\n",
       "      <td>NaN</td>\n",
       "      <td>Windows Desktop</td>\n",
       "      <td>435.0</td>\n",
       "    </tr>\n",
       "  </tbody>\n",
       "</table>\n",
       "</div>"
      ],
      "text/plain": [
       "      user_id          action action_type        action_detail  \\\n",
       "0  d1mm9tcy42          lookup         NaN                  NaN   \n",
       "1  d1mm9tcy42  search_results       click  view_search_results   \n",
       "2  d1mm9tcy42          lookup         NaN                  NaN   \n",
       "3  d1mm9tcy42  search_results       click  view_search_results   \n",
       "4  d1mm9tcy42          lookup         NaN                  NaN   \n",
       "\n",
       "       device_type  secs_elapsed  \n",
       "0  Windows Desktop         319.0  \n",
       "1  Windows Desktop       67753.0  \n",
       "2  Windows Desktop         301.0  \n",
       "3  Windows Desktop       22141.0  \n",
       "4  Windows Desktop         435.0  "
      ]
     },
     "execution_count": 4,
     "metadata": {},
     "output_type": "execute_result"
    }
   ],
   "source": [
    "df_s.head()"
   ]
  },
  {
   "cell_type": "code",
   "execution_count": 5,
   "metadata": {
    "collapsed": false
   },
   "outputs": [
    {
     "data": {
      "text/plain": [
       "user_id            34496\n",
       "action             79626\n",
       "action_type      1126204\n",
       "action_detail    1126204\n",
       "device_type            0\n",
       "secs_elapsed      136031\n",
       "dtype: int64"
      ]
     },
     "execution_count": 5,
     "metadata": {},
     "output_type": "execute_result"
    }
   ],
   "source": [
    "df_s.isnull().sum()"
   ]
  },
  {
   "cell_type": "markdown",
   "metadata": {},
   "source": [
    "- 10% of action_type and action_details are missing. \n",
    "- others are ~1% missing. "
   ]
  },
  {
   "cell_type": "markdown",
   "metadata": {},
   "source": [
    "# 1. hierarchical action values"
   ]
  },
  {
   "cell_type": "code",
   "execution_count": 6,
   "metadata": {
    "collapsed": false
   },
   "outputs": [
    {
     "data": {
      "text/plain": [
       "11"
      ]
     },
     "execution_count": 6,
     "metadata": {},
     "output_type": "execute_result"
    }
   ],
   "source": [
    "len(df_s.action_type.unique())"
   ]
  },
  {
   "cell_type": "code",
   "execution_count": 7,
   "metadata": {
    "collapsed": false
   },
   "outputs": [
    {
     "data": {
      "text/plain": [
       "view                3560902\n",
       "data                2103770\n",
       "click               1996183\n",
       "-unknown-           1031170\n",
       "submit               623357\n",
       "message_post          87103\n",
       "partner_callback      19132\n",
       "booking_request       18773\n",
       "modify                 1139\n",
       "booking_response          4\n",
       "Name: action_type, dtype: int64"
      ]
     },
     "execution_count": 7,
     "metadata": {},
     "output_type": "execute_result"
    }
   ],
   "source": [
    "df_s.action_type.value_counts()[:10]"
   ]
  },
  {
   "cell_type": "code",
   "execution_count": 8,
   "metadata": {
    "collapsed": false
   },
   "outputs": [
    {
     "data": {
      "text/plain": [
       "156"
      ]
     },
     "execution_count": 8,
     "metadata": {},
     "output_type": "execute_result"
    }
   ],
   "source": [
    "len(df_s.action_detail.unique())"
   ]
  },
  {
   "cell_type": "code",
   "execution_count": 9,
   "metadata": {
    "collapsed": false
   },
   "outputs": [
    {
     "data": {
      "text/plain": [
       "view_search_results            1776885\n",
       "p3                             1376550\n",
       "-unknown-                      1031141\n",
       "wishlist_content_update         706824\n",
       "user_profile                    656839\n",
       "change_trip_characteristics     487744\n",
       "similar_listings                364624\n",
       "user_social_connections         336799\n",
       "update_listing                  269779\n",
       "listing_reviews                 269021\n",
       "Name: action_detail, dtype: int64"
      ]
     },
     "execution_count": 9,
     "metadata": {},
     "output_type": "execute_result"
    }
   ],
   "source": [
    "df_s.action_detail.value_counts()[:10]"
   ]
  },
  {
   "cell_type": "code",
   "execution_count": 10,
   "metadata": {
    "collapsed": false
   },
   "outputs": [
    {
     "data": {
      "text/plain": [
       "360"
      ]
     },
     "execution_count": 10,
     "metadata": {},
     "output_type": "execute_result"
    }
   ],
   "source": [
    "len(df_s.action.unique())"
   ]
  },
  {
   "cell_type": "code",
   "execution_count": 11,
   "metadata": {
    "collapsed": false
   },
   "outputs": [
    {
     "data": {
      "text/plain": [
       "show                     2768278\n",
       "index                     843699\n",
       "search_results            725226\n",
       "personalize               706824\n",
       "search                    536057\n",
       "ajax_refresh_subtotal     487744\n",
       "update                    365130\n",
       "similar_listings          364624\n",
       "social_connections        339000\n",
       "reviews                   320591\n",
       "Name: action, dtype: int64"
      ]
     },
     "execution_count": 11,
     "metadata": {},
     "output_type": "execute_result"
    }
   ],
   "source": [
    "df_s.action.value_counts()[:10]"
   ]
  },
  {
   "cell_type": "markdown",
   "metadata": {},
   "source": [
    "# 2. example of user actions"
   ]
  },
  {
   "cell_type": "markdown",
   "metadata": {},
   "source": [
    "- We manually investigate several user actions from train data.  "
   ]
  },
  {
   "cell_type": "markdown",
   "metadata": {},
   "source": [
    "## example of actions of booked-users"
   ]
  },
  {
   "cell_type": "code",
   "execution_count": 12,
   "metadata": {
    "collapsed": true
   },
   "outputs": [],
   "source": [
    "ids_nobook = ['cqoo2tmnwk', 'e3b7a3l1ph']\n",
    "ids_book = ['fe24xftr8v', 'wd8g0cqs1q']"
   ]
  },
  {
   "cell_type": "code",
   "execution_count": 13,
   "metadata": {
    "collapsed": false
   },
   "outputs": [
    {
     "data": {
      "text/plain": [
       "show                           24\n",
       "personalize                    17\n",
       "similar_listings               14\n",
       "ajax_refresh_subtotal          13\n",
       "search_results                  9\n",
       "calendar_tab_inner2             8\n",
       "track_page_view                 3\n",
       "other_hosting_reviews_first     3\n",
       "index                           2\n",
       "cancellation_policies           2\n",
       "my                              2\n",
       "update                          1\n",
       "other_hosting_reviews           1\n",
       "create                          1\n",
       "open_graph_setting              1\n",
       "header_userpic                  1\n",
       "listings                        1\n",
       "Name: action, dtype: int64"
      ]
     },
     "execution_count": 13,
     "metadata": {},
     "output_type": "execute_result"
    }
   ],
   "source": [
    "df_s[df_s.user_id == 'fe24xftr8v'].action.value_counts()"
   ]
  },
  {
   "cell_type": "code",
   "execution_count": 14,
   "metadata": {
    "collapsed": false
   },
   "outputs": [
    {
     "data": {
      "text/plain": [
       "search_results           21\n",
       "show                     18\n",
       "index                     8\n",
       "personalize               7\n",
       "ajax_refresh_subtotal     6\n",
       "similar_listings          6\n",
       "update                    2\n",
       "requested                 2\n",
       "create                    2\n",
       "cancellation_policies     2\n",
       "dashboard                 2\n",
       "pending                   1\n",
       "verify                    1\n",
       "confirm_email             1\n",
       "header_userpic            1\n",
       "Name: action, dtype: int64"
      ]
     },
     "execution_count": 14,
     "metadata": {},
     "output_type": "execute_result"
    }
   ],
   "source": [
    "df_s[df_s.user_id == 'wd8g0cqs1q'].action.value_counts()"
   ]
  },
  {
   "cell_type": "markdown",
   "metadata": {},
   "source": [
    "## example of actions of no-booked users"
   ]
  },
  {
   "cell_type": "code",
   "execution_count": 15,
   "metadata": {
    "collapsed": false
   },
   "outputs": [
    {
     "data": {
      "text/plain": [
       "show                     2\n",
       "confirm_email            2\n",
       "personalize              2\n",
       "dashboard                2\n",
       "ajax_refresh_subtotal    1\n",
       "authenticate             1\n",
       "open_graph_setting       1\n",
       "cancellation_policies    1\n",
       "header_userpic           1\n",
       "update                   1\n",
       "Name: action, dtype: int64"
      ]
     },
     "execution_count": 15,
     "metadata": {},
     "output_type": "execute_result"
    }
   ],
   "source": [
    "df_s[df_s.user_id == 'cqoo2tmnwk'].action.value_counts()"
   ]
  },
  {
   "cell_type": "code",
   "execution_count": 16,
   "metadata": {
    "collapsed": false
   },
   "outputs": [
    {
     "data": {
      "text/plain": [
       "ask_question    1\n",
       "Name: action, dtype: int64"
      ]
     },
     "execution_count": 16,
     "metadata": {},
     "output_type": "execute_result"
    }
   ],
   "source": [
    "df_s[df_s.user_id == 'e3b7a3l1ph'].action.value_counts()"
   ]
  },
  {
   "cell_type": "markdown",
   "metadata": {},
   "source": [
    "- Even based on only 4 examples, we can see that booked users have more actions."
   ]
  },
  {
   "cell_type": "markdown",
   "metadata": {},
   "source": [
    "# 3. number of actions"
   ]
  },
  {
   "cell_type": "markdown",
   "metadata": {},
   "source": [
    "- We analyze the relation between number of total actions and bookings. "
   ]
  },
  {
   "cell_type": "code",
   "execution_count": 17,
   "metadata": {
    "collapsed": false
   },
   "outputs": [],
   "source": [
    "df_merged = pd.read_csv('train_user_session_merged.csv')\n",
    "actions = pd.read_csv('actions.csv', header=None, names=['action']).action.tolist()"
   ]
  },
  {
   "cell_type": "code",
   "execution_count": 18,
   "metadata": {
    "collapsed": true
   },
   "outputs": [],
   "source": [
    "df = df_merged[['id', 'n_action', 'total_sec', 'avg_sec_per_action', 'country_destination']].copy()"
   ]
  },
  {
   "cell_type": "code",
   "execution_count": 19,
   "metadata": {
    "collapsed": false
   },
   "outputs": [
    {
     "data": {
      "text/html": [
       "<div>\n",
       "<table border=\"1\" class=\"dataframe\">\n",
       "  <thead>\n",
       "    <tr style=\"text-align: right;\">\n",
       "      <th></th>\n",
       "      <th>id</th>\n",
       "      <th>n_action</th>\n",
       "      <th>total_sec</th>\n",
       "      <th>avg_sec_per_action</th>\n",
       "      <th>country_destination</th>\n",
       "    </tr>\n",
       "  </thead>\n",
       "  <tbody>\n",
       "    <tr>\n",
       "      <th>0</th>\n",
       "      <td>yo8nz8bqcq</td>\n",
       "      <td>9</td>\n",
       "      <td>207842.0</td>\n",
       "      <td>23093.555556</td>\n",
       "      <td>NDF</td>\n",
       "    </tr>\n",
       "    <tr>\n",
       "      <th>1</th>\n",
       "      <td>4grx6yxeby</td>\n",
       "      <td>16</td>\n",
       "      <td>1135444.0</td>\n",
       "      <td>70965.250000</td>\n",
       "      <td>NDF</td>\n",
       "    </tr>\n",
       "    <tr>\n",
       "      <th>2</th>\n",
       "      <td>ncf87guaf0</td>\n",
       "      <td>152</td>\n",
       "      <td>3755100.0</td>\n",
       "      <td>24704.605263</td>\n",
       "      <td>NDF</td>\n",
       "    </tr>\n",
       "    <tr>\n",
       "      <th>3</th>\n",
       "      <td>c8mfesvkv0</td>\n",
       "      <td>3</td>\n",
       "      <td>1380288.0</td>\n",
       "      <td>460096.000000</td>\n",
       "      <td>NDF</td>\n",
       "    </tr>\n",
       "    <tr>\n",
       "      <th>4</th>\n",
       "      <td>xwxei6hdk4</td>\n",
       "      <td>7</td>\n",
       "      <td>49673.0</td>\n",
       "      <td>7096.142857</td>\n",
       "      <td>US</td>\n",
       "    </tr>\n",
       "  </tbody>\n",
       "</table>\n",
       "</div>"
      ],
      "text/plain": [
       "           id  n_action  total_sec  avg_sec_per_action country_destination\n",
       "0  yo8nz8bqcq         9   207842.0        23093.555556                 NDF\n",
       "1  4grx6yxeby        16  1135444.0        70965.250000                 NDF\n",
       "2  ncf87guaf0       152  3755100.0        24704.605263                 NDF\n",
       "3  c8mfesvkv0         3  1380288.0       460096.000000                 NDF\n",
       "4  xwxei6hdk4         7    49673.0         7096.142857                  US"
      ]
     },
     "execution_count": 19,
     "metadata": {},
     "output_type": "execute_result"
    }
   ],
   "source": [
    "df.head()"
   ]
  },
  {
   "cell_type": "code",
   "execution_count": 20,
   "metadata": {
    "collapsed": false
   },
   "outputs": [
    {
     "data": {
      "text/plain": [
       "<matplotlib.axes._subplots.AxesSubplot at 0x1718003eef0>"
      ]
     },
     "execution_count": 20,
     "metadata": {},
     "output_type": "execute_result"
    },
    {
     "data": {
      "image/png": "[encoded data removed]",
      "text/plain": [
       "<matplotlib.figure.Figure at 0x1718003e898>"
      ]
     },
     "metadata": {},
     "output_type": "display_data"
    }
   ],
   "source": [
    "df.n_action.hist()"
   ]
  },
  {
   "cell_type": "markdown",
   "metadata": {},
   "source": [
    "- We see that most users (~90%) have < 200 n_action, while maximum is 2644. \n",
    "- The number of actions is highly unbalanced. "
   ]
  },
  {
   "cell_type": "code",
   "execution_count": 21,
   "metadata": {
    "collapsed": false
   },
   "outputs": [
    {
     "data": {
      "text/plain": [
       "[<matplotlib.lines.Line2D at 0x17186185908>]"
      ]
     },
     "execution_count": 21,
     "metadata": {},
     "output_type": "execute_result"
    },
    {
     "data": {
      "image/png": "[encoded data removed]",
      "text/plain": [
       "<matplotlib.figure.Figure at 0x17186185978>"
      ]
     },
     "metadata": {},
     "output_type": "display_data"
    }
   ],
   "source": [
    "n_action_quantile = df.n_action.quantile(np.linspace(0,1,21))\n",
    "labels = ['(%d,%d]' %(5*i, 5*i+5) for i in range(len(n_action_quantile)-1)]\n",
    "df['n_action_quantile'] = pd.cut(df['n_action'], bins=n_action_quantile, labels=labels)\n",
    "\n",
    "gp = df.groupby('n_action_quantile')\n",
    "labels = []\n",
    "rates = []\n",
    "for label, df_gp in gp:\n",
    "    cnt = df_gp.country_destination.value_counts()\n",
    "    booking_rate = (cnt/cnt.sum())['US']*100\n",
    "    labels.append(label)\n",
    "    rates.append(booking_rate)\n",
    "    \n",
    "quantile_rate = pd.Series(rates, index=labels)\n",
    "quantile_rate.plot(kind='bar')\n",
    "plt.plot([-1,22],[30.8,30.8],'r--')"
   ]
  },
  {
   "cell_type": "markdown",
   "metadata": {},
   "source": [
    "- We see the general trend of the increase in booking rate as the number of actions increase."
   ]
  },
  {
   "cell_type": "markdown",
   "metadata": {},
   "source": [
    "# 4. Total seconds / Average seconds on actions"
   ]
  },
  {
   "cell_type": "code",
   "execution_count": 22,
   "metadata": {
    "collapsed": false
   },
   "outputs": [
    {
     "data": {
      "text/plain": [
       "<matplotlib.axes._subplots.AxesSubplot at 0x1718623e240>"
      ]
     },
     "execution_count": 22,
     "metadata": {},
     "output_type": "execute_result"
    },
    {
     "data": {
      "image/png": "[encoded data removed]",
      "text/plain": [
       "<matplotlib.figure.Figure at 0x171804a1fd0>"
      ]
     },
     "metadata": {},
     "output_type": "display_data"
    }
   ],
   "source": [
    "df.total_sec.hist()"
   ]
  },
  {
   "cell_type": "code",
   "execution_count": 23,
   "metadata": {
    "collapsed": false
   },
   "outputs": [
    {
     "data": {
      "text/plain": [
       "[<matplotlib.lines.Line2D at 0x1718628c470>]"
      ]
     },
     "execution_count": 23,
     "metadata": {},
     "output_type": "execute_result"
    },
    {
     "data": {
      "image/png": "[encoded data removed]",
      "text/plain": [
       "<matplotlib.figure.Figure at 0x171861855c0>"
      ]
     },
     "metadata": {},
     "output_type": "display_data"
    }
   ],
   "source": [
    "total_sec_quantile = df.total_sec.quantile(np.linspace(0,1,21))\n",
    "labels = ['(%d,%d]' %(5*i, 5*i+5) for i in range(len(total_sec_quantile)-1)]\n",
    "df['total_sec_quantile'] = pd.cut(df['total_sec'], bins=total_sec_quantile, labels=labels)\n",
    "\n",
    "gp = df.groupby('total_sec_quantile')\n",
    "labels = []\n",
    "rates = []\n",
    "for label, df_gp in gp:\n",
    "    cnt = df_gp.country_destination.value_counts()\n",
    "    booking_rate = (cnt/cnt.sum())['US']*100\n",
    "    labels.append(label)\n",
    "    rates.append(booking_rate)\n",
    "    \n",
    "quantile_rate = pd.Series(rates, index=labels)\n",
    "quantile_rate.plot(kind='bar')\n",
    "plt.plot([-1,22],[30.8,30.8],'r--')"
   ]
  },
  {
   "cell_type": "code",
   "execution_count": 24,
   "metadata": {
    "collapsed": false
   },
   "outputs": [
    {
     "data": {
      "text/plain": [
       "<matplotlib.axes._subplots.AxesSubplot at 0x171803beb70>"
      ]
     },
     "execution_count": 24,
     "metadata": {},
     "output_type": "execute_result"
    },
    {
     "data": {
      "image/png": "[encoded data removed]",
      "text/plain": [
       "<matplotlib.figure.Figure at 0x17186260a90>"
      ]
     },
     "metadata": {},
     "output_type": "display_data"
    }
   ],
   "source": [
    "df.avg_sec_per_action.hist()"
   ]
  },
  {
   "cell_type": "code",
   "execution_count": 25,
   "metadata": {
    "collapsed": false
   },
   "outputs": [
    {
     "data": {
      "text/plain": [
       "[<matplotlib.lines.Line2D at 0x171862649e8>]"
      ]
     },
     "execution_count": 25,
     "metadata": {},
     "output_type": "execute_result"
    },
    {
     "data": {
      "image/png": "[encoded data removed]",
      "text/plain": [
       "<matplotlib.figure.Figure at 0x171802969e8>"
      ]
     },
     "metadata": {},
     "output_type": "display_data"
    }
   ],
   "source": [
    "avg_sec_quantile = df.avg_sec_per_action.quantile(np.linspace(0,1,21))\n",
    "labels = ['(%d,%d]' %(5*i, 5*i+5) for i in range(len(avg_sec_quantile)-1)]\n",
    "df['avg_sec_quantile'] = pd.cut(df['avg_sec_per_action'], bins=avg_sec_quantile, labels=labels)\n",
    "\n",
    "gp = df.groupby('avg_sec_quantile')\n",
    "labels = []\n",
    "rates = []\n",
    "for label, df_gp in gp:\n",
    "    cnt = df_gp.country_destination.value_counts()\n",
    "    booking_rate = (cnt/cnt.sum())['US']*100\n",
    "    labels.append(label)\n",
    "    rates.append(booking_rate)\n",
    "    \n",
    "quantile_rate = pd.Series(rates, index=labels)\n",
    "quantile_rate.plot(kind='bar')\n",
    "plt.plot([-1,22],[30.8,30.8],'r--')"
   ]
  },
  {
   "cell_type": "markdown",
   "metadata": {
    "collapsed": true
   },
   "source": [
    "# Clustering"
   ]
  },
  {
   "cell_type": "code",
   "execution_count": 26,
   "metadata": {
    "collapsed": false
   },
   "outputs": [],
   "source": [
    "from sklearn.cluster import KMeans\n",
    "\n",
    "X = df_merged[actions]"
   ]
  },
  {
   "cell_type": "code",
   "execution_count": 27,
   "metadata": {
    "collapsed": true
   },
   "outputs": [],
   "source": [
    "kmeans = KMeans(n_clusters=4).fit(X)\n",
    "df['cluster'] = kmeans.labels_"
   ]
  },
  {
   "cell_type": "code",
   "execution_count": 28,
   "metadata": {
    "collapsed": true
   },
   "outputs": [],
   "source": [
    "gp = df.groupby('cluster')"
   ]
  },
  {
   "cell_type": "code",
   "execution_count": 29,
   "metadata": {
    "collapsed": false
   },
   "outputs": [
    {
     "name": "stdout",
     "output_type": "stream",
     "text": [
      "\n",
      "--group 0--\n",
      "group size: 56116\n",
      "n_action median: 28\n",
      "avg_sec_per_action median: 17789\n",
      "booking_rate: 30.35%\n",
      "\n",
      "--group 1--\n",
      "group size: 699\n",
      "n_action median: 586\n",
      "avg_sec_per_action median: 9744\n",
      "booking_rate: 35.62%\n",
      "\n",
      "--group 2--\n",
      "group size: 8011\n",
      "n_action median: 202\n",
      "avg_sec_per_action median: 14696\n",
      "booking_rate: 34.04%\n",
      "\n",
      "--group 3--\n",
      "group size: 310\n",
      "n_action median: 361\n",
      "avg_sec_per_action median: 7164\n",
      "booking_rate: 29.03%\n"
     ]
    }
   ],
   "source": [
    "for label, df_gp in gp:\n",
    "    print('\\n--group %s--' %label)\n",
    "    print('group size: %d' %df_gp.shape[0])\n",
    "    print('n_action median: %d' %df_gp.n_action.median())\n",
    "    print('avg_sec_per_action median: %d' %df_gp.avg_sec_per_action.median())\n",
    "\n",
    "    cnt = df_gp.country_destination.value_counts()\n",
    "    booking_rate = (cnt/cnt.sum())['US']*100\n",
    "    print('booking_rate: %.2f%%' %booking_rate)"
   ]
  },
  {
   "cell_type": "markdown",
   "metadata": {},
   "source": [
    "- We need to investigate more to get better insight"
   ]
  }
 ],
 "metadata": {
  "anaconda-cloud": {},
  "kernelspec": {
   "display_name": "Python [default]",
   "language": "python",
   "name": "python3"
  },
  "language_info": {
   "codemirror_mode": {
    "name": "ipython",
    "version": 3
   },
   "file_extension": ".py",
   "mimetype": "text/x-python",
   "name": "python",
   "nbconvert_exporter": "python",
   "pygments_lexer": "ipython3",
   "version": "3.5.2"
  }
 },
 "nbformat": 4,
 "nbformat_minor": 1
}
